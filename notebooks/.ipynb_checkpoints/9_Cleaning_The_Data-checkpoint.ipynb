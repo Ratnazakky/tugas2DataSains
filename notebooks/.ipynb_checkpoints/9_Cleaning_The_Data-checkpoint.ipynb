{
 "cells": [
  {
   "cell_type": "markdown",
   "metadata": {},
   "source": [
    "# 9. Data Cleansing"
   ]
  },
  {
   "cell_type": "code",
   "execution_count": 1,
   "metadata": {},
   "outputs": [],
   "source": [
    "import pandas as pd\n",
    "import numpy as np\n",
    "import random"
   ]
  },
  {
   "cell_type": "code",
   "execution_count": 2,
   "metadata": {},
   "outputs": [],
   "source": [
    "PATH_DATA = '../mydata/employee_data/'"
   ]
  },
  {
   "cell_type": "markdown",
   "metadata": {},
   "source": [
    "## Get data"
   ]
  },
  {
   "cell_type": "code",
   "execution_count": 4,
   "metadata": {},
   "outputs": [
    {
     "data": {
      "text/html": [
       "<div>\n",
       "<style scoped>\n",
       "    .dataframe tbody tr th:only-of-type {\n",
       "        vertical-align: middle;\n",
       "    }\n",
       "\n",
       "    .dataframe tbody tr th {\n",
       "        vertical-align: top;\n",
       "    }\n",
       "\n",
       "    .dataframe thead th {\n",
       "        text-align: right;\n",
       "    }\n",
       "</style>\n",
       "<table border=\"1\" class=\"dataframe\">\n",
       "  <thead>\n",
       "    <tr style=\"text-align: right;\">\n",
       "      <th></th>\n",
       "      <th>x_id</th>\n",
       "      <th>date_day</th>\n",
       "      <th>x_value</th>\n",
       "    </tr>\n",
       "  </thead>\n",
       "  <tbody>\n",
       "    <tr>\n",
       "      <th>0</th>\n",
       "      <td>134.0</td>\n",
       "      <td>2016-12-23</td>\n",
       "      <td>3.00</td>\n",
       "    </tr>\n",
       "    <tr>\n",
       "      <th>1</th>\n",
       "      <td>217.0</td>\n",
       "      <td>2017-02-20</td>\n",
       "      <td>2.00</td>\n",
       "    </tr>\n",
       "    <tr>\n",
       "      <th>2</th>\n",
       "      <td>173.0</td>\n",
       "      <td>2016-11-18</td>\n",
       "      <td>2.40</td>\n",
       "    </tr>\n",
       "    <tr>\n",
       "      <th>3</th>\n",
       "      <td>65.0</td>\n",
       "      <td>2016-04-21</td>\n",
       "      <td>3.00</td>\n",
       "    </tr>\n",
       "    <tr>\n",
       "      <th>4</th>\n",
       "      <td>102.0</td>\n",
       "      <td>2016-12-07</td>\n",
       "      <td>2.75</td>\n",
       "    </tr>\n",
       "  </tbody>\n",
       "</table>\n",
       "</div>"
      ],
      "text/plain": [
       "    x_id    date_day  x_value\n",
       "0  134.0  2016-12-23     3.00\n",
       "1  217.0  2017-02-20     2.00\n",
       "2  173.0  2016-11-18     2.40\n",
       "3   65.0  2016-04-21     3.00\n",
       "4  102.0  2016-12-07     2.75"
      ]
     },
     "execution_count": 4,
     "metadata": {},
     "output_type": "execute_result"
    }
   ],
   "source": [
    "df_unclean = pd.read_csv(PATH_DATA+'unclean_data.csv')\n",
    "df_unclean.head()"
   ]
  },
  {
   "cell_type": "code",
   "execution_count": 5,
   "metadata": {},
   "outputs": [],
   "source": [
    "df_unclean0 = df_unclean.copy()"
   ]
  },
  {
   "cell_type": "code",
   "execution_count": null,
   "metadata": {},
   "outputs": [],
   "source": []
  },
  {
   "cell_type": "markdown",
   "metadata": {},
   "source": [
    "# Calculate and Filter missing data"
   ]
  },
  {
   "cell_type": "code",
   "execution_count": 6,
   "metadata": {},
   "outputs": [
    {
     "data": {
      "text/plain": [
       "(140000, 3)"
      ]
     },
     "execution_count": 6,
     "metadata": {},
     "output_type": "execute_result"
    }
   ],
   "source": [
    "df_unclean.shape"
   ]
  },
  {
   "cell_type": "code",
   "execution_count": 7,
   "metadata": {},
   "outputs": [
    {
     "data": {
      "text/plain": [
       "x_id         356\n",
       "date_day     100\n",
       "x_value     9398\n",
       "dtype: int64"
      ]
     },
     "execution_count": 7,
     "metadata": {},
     "output_type": "execute_result"
    }
   ],
   "source": [
    "## null count\n",
    "df_unclean.isnull().sum()"
   ]
  },
  {
   "cell_type": "code",
   "execution_count": 9,
   "metadata": {},
   "outputs": [
    {
     "data": {
      "text/plain": [
       "x_id        0.254286\n",
       "date_day    0.071429\n",
       "x_value     6.712857\n",
       "dtype: float64"
      ]
     },
     "execution_count": 9,
     "metadata": {},
     "output_type": "execute_result"
    }
   ],
   "source": [
    "(df_unclean.isnull().sum()/140000)*100"
   ]
  },
  {
   "cell_type": "code",
   "execution_count": null,
   "metadata": {},
   "outputs": [],
   "source": []
  },
  {
   "cell_type": "code",
   "execution_count": 10,
   "metadata": {},
   "outputs": [
    {
     "data": {
      "text/plain": [
       "x_id        139644\n",
       "date_day    139900\n",
       "x_value     130602\n",
       "dtype: int64"
      ]
     },
     "execution_count": 10,
     "metadata": {},
     "output_type": "execute_result"
    }
   ],
   "source": [
    "## not null count\n",
    "df_unclean.count()"
   ]
  },
  {
   "cell_type": "code",
   "execution_count": 11,
   "metadata": {},
   "outputs": [
    {
     "data": {
      "text/html": [
       "<div>\n",
       "<style scoped>\n",
       "    .dataframe tbody tr th:only-of-type {\n",
       "        vertical-align: middle;\n",
       "    }\n",
       "\n",
       "    .dataframe tbody tr th {\n",
       "        vertical-align: top;\n",
       "    }\n",
       "\n",
       "    .dataframe thead th {\n",
       "        text-align: right;\n",
       "    }\n",
       "</style>\n",
       "<table border=\"1\" class=\"dataframe\">\n",
       "  <thead>\n",
       "    <tr style=\"text-align: right;\">\n",
       "      <th></th>\n",
       "      <th>x_id</th>\n",
       "      <th>date_day</th>\n",
       "      <th>x_value</th>\n",
       "    </tr>\n",
       "  </thead>\n",
       "  <tbody>\n",
       "    <tr>\n",
       "      <th>260</th>\n",
       "      <td>NaN</td>\n",
       "      <td>2016-08-11</td>\n",
       "      <td>4.0</td>\n",
       "    </tr>\n",
       "    <tr>\n",
       "      <th>1283</th>\n",
       "      <td>NaN</td>\n",
       "      <td>2016-09-10</td>\n",
       "      <td>2.0</td>\n",
       "    </tr>\n",
       "    <tr>\n",
       "      <th>1379</th>\n",
       "      <td>NaN</td>\n",
       "      <td>2016-05-06</td>\n",
       "      <td>3.5</td>\n",
       "    </tr>\n",
       "    <tr>\n",
       "      <th>1491</th>\n",
       "      <td>NaN</td>\n",
       "      <td>2016-12-22</td>\n",
       "      <td>4.0</td>\n",
       "    </tr>\n",
       "    <tr>\n",
       "      <th>2204</th>\n",
       "      <td>NaN</td>\n",
       "      <td>2017-02-22</td>\n",
       "      <td>2.0</td>\n",
       "    </tr>\n",
       "    <tr>\n",
       "      <th>...</th>\n",
       "      <td>...</td>\n",
       "      <td>...</td>\n",
       "      <td>...</td>\n",
       "    </tr>\n",
       "    <tr>\n",
       "      <th>138601</th>\n",
       "      <td>NaN</td>\n",
       "      <td>2016-07-31</td>\n",
       "      <td>4.0</td>\n",
       "    </tr>\n",
       "    <tr>\n",
       "      <th>138667</th>\n",
       "      <td>NaN</td>\n",
       "      <td>2016-09-23</td>\n",
       "      <td>3.0</td>\n",
       "    </tr>\n",
       "    <tr>\n",
       "      <th>139220</th>\n",
       "      <td>NaN</td>\n",
       "      <td>2016-09-12</td>\n",
       "      <td>4.0</td>\n",
       "    </tr>\n",
       "    <tr>\n",
       "      <th>139407</th>\n",
       "      <td>NaN</td>\n",
       "      <td>2016-10-30</td>\n",
       "      <td>4.0</td>\n",
       "    </tr>\n",
       "    <tr>\n",
       "      <th>139489</th>\n",
       "      <td>NaN</td>\n",
       "      <td>2016-07-06</td>\n",
       "      <td>1.0</td>\n",
       "    </tr>\n",
       "  </tbody>\n",
       "</table>\n",
       "<p>356 rows × 3 columns</p>\n",
       "</div>"
      ],
      "text/plain": [
       "        x_id    date_day  x_value\n",
       "260      NaN  2016-08-11      4.0\n",
       "1283     NaN  2016-09-10      2.0\n",
       "1379     NaN  2016-05-06      3.5\n",
       "1491     NaN  2016-12-22      4.0\n",
       "2204     NaN  2017-02-22      2.0\n",
       "...      ...         ...      ...\n",
       "138601   NaN  2016-07-31      4.0\n",
       "138667   NaN  2016-09-23      3.0\n",
       "139220   NaN  2016-09-12      4.0\n",
       "139407   NaN  2016-10-30      4.0\n",
       "139489   NaN  2016-07-06      1.0\n",
       "\n",
       "[356 rows x 3 columns]"
      ]
     },
     "execution_count": 11,
     "metadata": {},
     "output_type": "execute_result"
    }
   ],
   "source": [
    "## get null x_id\n",
    "df_unclean[df_unclean['x_id'].isnull()]"
   ]
  },
  {
   "cell_type": "code",
   "execution_count": 12,
   "metadata": {},
   "outputs": [
    {
     "data": {
      "text/html": [
       "<div>\n",
       "<style scoped>\n",
       "    .dataframe tbody tr th:only-of-type {\n",
       "        vertical-align: middle;\n",
       "    }\n",
       "\n",
       "    .dataframe tbody tr th {\n",
       "        vertical-align: top;\n",
       "    }\n",
       "\n",
       "    .dataframe thead th {\n",
       "        text-align: right;\n",
       "    }\n",
       "</style>\n",
       "<table border=\"1\" class=\"dataframe\">\n",
       "  <thead>\n",
       "    <tr style=\"text-align: right;\">\n",
       "      <th></th>\n",
       "      <th>x_id</th>\n",
       "      <th>date_day</th>\n",
       "      <th>x_value</th>\n",
       "    </tr>\n",
       "  </thead>\n",
       "  <tbody>\n",
       "    <tr>\n",
       "      <th>0</th>\n",
       "      <td>134.0</td>\n",
       "      <td>2016-12-23</td>\n",
       "      <td>3.00</td>\n",
       "    </tr>\n",
       "    <tr>\n",
       "      <th>1</th>\n",
       "      <td>217.0</td>\n",
       "      <td>2017-02-20</td>\n",
       "      <td>2.00</td>\n",
       "    </tr>\n",
       "    <tr>\n",
       "      <th>2</th>\n",
       "      <td>173.0</td>\n",
       "      <td>2016-11-18</td>\n",
       "      <td>2.40</td>\n",
       "    </tr>\n",
       "    <tr>\n",
       "      <th>3</th>\n",
       "      <td>65.0</td>\n",
       "      <td>2016-04-21</td>\n",
       "      <td>3.00</td>\n",
       "    </tr>\n",
       "    <tr>\n",
       "      <th>4</th>\n",
       "      <td>102.0</td>\n",
       "      <td>2016-12-07</td>\n",
       "      <td>2.75</td>\n",
       "    </tr>\n",
       "    <tr>\n",
       "      <th>...</th>\n",
       "      <td>...</td>\n",
       "      <td>...</td>\n",
       "      <td>...</td>\n",
       "    </tr>\n",
       "    <tr>\n",
       "      <th>139995</th>\n",
       "      <td>43.0</td>\n",
       "      <td>2016-10-17</td>\n",
       "      <td>3.00</td>\n",
       "    </tr>\n",
       "    <tr>\n",
       "      <th>139996</th>\n",
       "      <td>663.0</td>\n",
       "      <td>2016-10-07</td>\n",
       "      <td>2.00</td>\n",
       "    </tr>\n",
       "    <tr>\n",
       "      <th>139997</th>\n",
       "      <td>143.0</td>\n",
       "      <td>2015-06-07</td>\n",
       "      <td>1.00</td>\n",
       "    </tr>\n",
       "    <tr>\n",
       "      <th>139998</th>\n",
       "      <td>130.0</td>\n",
       "      <td>2016-07-18</td>\n",
       "      <td>3.00</td>\n",
       "    </tr>\n",
       "    <tr>\n",
       "      <th>139999</th>\n",
       "      <td>137.0</td>\n",
       "      <td>2016-06-17</td>\n",
       "      <td>2.00</td>\n",
       "    </tr>\n",
       "  </tbody>\n",
       "</table>\n",
       "<p>139644 rows × 3 columns</p>\n",
       "</div>"
      ],
      "text/plain": [
       "         x_id    date_day  x_value\n",
       "0       134.0  2016-12-23     3.00\n",
       "1       217.0  2017-02-20     2.00\n",
       "2       173.0  2016-11-18     2.40\n",
       "3        65.0  2016-04-21     3.00\n",
       "4       102.0  2016-12-07     2.75\n",
       "...       ...         ...      ...\n",
       "139995   43.0  2016-10-17     3.00\n",
       "139996  663.0  2016-10-07     2.00\n",
       "139997  143.0  2015-06-07     1.00\n",
       "139998  130.0  2016-07-18     3.00\n",
       "139999  137.0  2016-06-17     2.00\n",
       "\n",
       "[139644 rows x 3 columns]"
      ]
     },
     "execution_count": 12,
     "metadata": {},
     "output_type": "execute_result"
    }
   ],
   "source": [
    "## get non-null x_id\n",
    "df_unclean[~(df_unclean['x_id'].isnull())]"
   ]
  },
  {
   "cell_type": "code",
   "execution_count": 13,
   "metadata": {},
   "outputs": [],
   "source": [
    "## drop all null from all columns\n",
    "df_unclear2 = df_unclean.dropna()"
   ]
  },
  {
   "cell_type": "code",
   "execution_count": 14,
   "metadata": {},
   "outputs": [
    {
     "data": {
      "text/plain": [
       "x_id        0\n",
       "date_day    0\n",
       "x_value     0\n",
       "dtype: int64"
      ]
     },
     "execution_count": 14,
     "metadata": {},
     "output_type": "execute_result"
    }
   ],
   "source": [
    "df_unclear2.isnull().sum()"
   ]
  },
  {
   "cell_type": "code",
   "execution_count": 15,
   "metadata": {},
   "outputs": [
    {
     "data": {
      "text/plain": [
       "(130179, 3)"
      ]
     },
     "execution_count": 15,
     "metadata": {},
     "output_type": "execute_result"
    }
   ],
   "source": [
    "df_unclear2.shape"
   ]
  },
  {
   "cell_type": "code",
   "execution_count": 16,
   "metadata": {},
   "outputs": [
    {
     "data": {
      "text/plain": [
       "0.92985"
      ]
     },
     "execution_count": 16,
     "metadata": {},
     "output_type": "execute_result"
    }
   ],
   "source": [
    "130179/140000"
   ]
  },
  {
   "cell_type": "code",
   "execution_count": null,
   "metadata": {},
   "outputs": [],
   "source": []
  },
  {
   "cell_type": "markdown",
   "metadata": {},
   "source": [
    "# Data Imputation"
   ]
  },
  {
   "cell_type": "code",
   "execution_count": 17,
   "metadata": {},
   "outputs": [
    {
     "data": {
      "text/html": [
       "<div>\n",
       "<style scoped>\n",
       "    .dataframe tbody tr th:only-of-type {\n",
       "        vertical-align: middle;\n",
       "    }\n",
       "\n",
       "    .dataframe tbody tr th {\n",
       "        vertical-align: top;\n",
       "    }\n",
       "\n",
       "    .dataframe thead th {\n",
       "        text-align: right;\n",
       "    }\n",
       "</style>\n",
       "<table border=\"1\" class=\"dataframe\">\n",
       "  <thead>\n",
       "    <tr style=\"text-align: right;\">\n",
       "      <th></th>\n",
       "      <th>x_id</th>\n",
       "      <th>date_day</th>\n",
       "      <th>x_value</th>\n",
       "    </tr>\n",
       "  </thead>\n",
       "  <tbody>\n",
       "    <tr>\n",
       "      <th>0</th>\n",
       "      <td>134.0</td>\n",
       "      <td>2016-12-23</td>\n",
       "      <td>3.00</td>\n",
       "    </tr>\n",
       "    <tr>\n",
       "      <th>1</th>\n",
       "      <td>217.0</td>\n",
       "      <td>2017-02-20</td>\n",
       "      <td>2.00</td>\n",
       "    </tr>\n",
       "    <tr>\n",
       "      <th>2</th>\n",
       "      <td>173.0</td>\n",
       "      <td>2016-11-18</td>\n",
       "      <td>2.40</td>\n",
       "    </tr>\n",
       "    <tr>\n",
       "      <th>3</th>\n",
       "      <td>65.0</td>\n",
       "      <td>2016-04-21</td>\n",
       "      <td>3.00</td>\n",
       "    </tr>\n",
       "    <tr>\n",
       "      <th>4</th>\n",
       "      <td>102.0</td>\n",
       "      <td>2016-12-07</td>\n",
       "      <td>2.75</td>\n",
       "    </tr>\n",
       "    <tr>\n",
       "      <th>...</th>\n",
       "      <td>...</td>\n",
       "      <td>...</td>\n",
       "      <td>...</td>\n",
       "    </tr>\n",
       "    <tr>\n",
       "      <th>139995</th>\n",
       "      <td>43.0</td>\n",
       "      <td>2016-10-17</td>\n",
       "      <td>3.00</td>\n",
       "    </tr>\n",
       "    <tr>\n",
       "      <th>139996</th>\n",
       "      <td>663.0</td>\n",
       "      <td>2016-10-07</td>\n",
       "      <td>2.00</td>\n",
       "    </tr>\n",
       "    <tr>\n",
       "      <th>139997</th>\n",
       "      <td>143.0</td>\n",
       "      <td>2015-06-07</td>\n",
       "      <td>1.00</td>\n",
       "    </tr>\n",
       "    <tr>\n",
       "      <th>139998</th>\n",
       "      <td>130.0</td>\n",
       "      <td>2016-07-18</td>\n",
       "      <td>3.00</td>\n",
       "    </tr>\n",
       "    <tr>\n",
       "      <th>139999</th>\n",
       "      <td>137.0</td>\n",
       "      <td>2016-06-17</td>\n",
       "      <td>2.00</td>\n",
       "    </tr>\n",
       "  </tbody>\n",
       "</table>\n",
       "<p>140000 rows × 3 columns</p>\n",
       "</div>"
      ],
      "text/plain": [
       "         x_id    date_day  x_value\n",
       "0       134.0  2016-12-23     3.00\n",
       "1       217.0  2017-02-20     2.00\n",
       "2       173.0  2016-11-18     2.40\n",
       "3        65.0  2016-04-21     3.00\n",
       "4       102.0  2016-12-07     2.75\n",
       "...       ...         ...      ...\n",
       "139995   43.0  2016-10-17     3.00\n",
       "139996  663.0  2016-10-07     2.00\n",
       "139997  143.0  2015-06-07     1.00\n",
       "139998  130.0  2016-07-18     3.00\n",
       "139999  137.0  2016-06-17     2.00\n",
       "\n",
       "[140000 rows x 3 columns]"
      ]
     },
     "execution_count": 17,
     "metadata": {},
     "output_type": "execute_result"
    }
   ],
   "source": [
    "df_unclean"
   ]
  },
  {
   "cell_type": "code",
   "execution_count": 18,
   "metadata": {},
   "outputs": [],
   "source": [
    "# df_unclean['x_value'] = df_unclean['x_value'].fillna(df_unclean['x_id'])\n",
    "df_unclean['x_value'] = df_unclean['x_value'].fillna(-1)"
   ]
  },
  {
   "cell_type": "code",
   "execution_count": 19,
   "metadata": {},
   "outputs": [
    {
     "data": {
      "text/plain": [
       "x_id        356\n",
       "date_day    100\n",
       "x_value       0\n",
       "dtype: int64"
      ]
     },
     "execution_count": 19,
     "metadata": {},
     "output_type": "execute_result"
    }
   ],
   "source": [
    "df_unclean.isnull().sum()"
   ]
  },
  {
   "cell_type": "code",
   "execution_count": 24,
   "metadata": {},
   "outputs": [
    {
     "data": {
      "text/html": [
       "<div>\n",
       "<style scoped>\n",
       "    .dataframe tbody tr th:only-of-type {\n",
       "        vertical-align: middle;\n",
       "    }\n",
       "\n",
       "    .dataframe tbody tr th {\n",
       "        vertical-align: top;\n",
       "    }\n",
       "\n",
       "    .dataframe thead th {\n",
       "        text-align: right;\n",
       "    }\n",
       "</style>\n",
       "<table border=\"1\" class=\"dataframe\">\n",
       "  <thead>\n",
       "    <tr style=\"text-align: right;\">\n",
       "      <th></th>\n",
       "      <th>x_id</th>\n",
       "      <th>date_day</th>\n",
       "      <th>x_value</th>\n",
       "    </tr>\n",
       "  </thead>\n",
       "  <tbody>\n",
       "    <tr>\n",
       "      <th>128015</th>\n",
       "      <td>121.0</td>\n",
       "      <td>2017-02-16</td>\n",
       "      <td>3.000000</td>\n",
       "    </tr>\n",
       "    <tr>\n",
       "      <th>83146</th>\n",
       "      <td>461.0</td>\n",
       "      <td>2016-03-31</td>\n",
       "      <td>3.000000</td>\n",
       "    </tr>\n",
       "    <tr>\n",
       "      <th>24772</th>\n",
       "      <td>308.0</td>\n",
       "      <td>2016-11-19</td>\n",
       "      <td>3.000000</td>\n",
       "    </tr>\n",
       "    <tr>\n",
       "      <th>79080</th>\n",
       "      <td>209.0</td>\n",
       "      <td>2016-06-28</td>\n",
       "      <td>3.000000</td>\n",
       "    </tr>\n",
       "    <tr>\n",
       "      <th>125862</th>\n",
       "      <td>162.0</td>\n",
       "      <td>2016-08-29</td>\n",
       "      <td>3.000000</td>\n",
       "    </tr>\n",
       "    <tr>\n",
       "      <th>58202</th>\n",
       "      <td>964.0</td>\n",
       "      <td>2017-03-10</td>\n",
       "      <td>1.000000</td>\n",
       "    </tr>\n",
       "    <tr>\n",
       "      <th>45665</th>\n",
       "      <td>98.0</td>\n",
       "      <td>2016-12-20</td>\n",
       "      <td>3.000000</td>\n",
       "    </tr>\n",
       "    <tr>\n",
       "      <th>135438</th>\n",
       "      <td>40.0</td>\n",
       "      <td>2016-12-22</td>\n",
       "      <td>2.500000</td>\n",
       "    </tr>\n",
       "    <tr>\n",
       "      <th>46525</th>\n",
       "      <td>16.0</td>\n",
       "      <td>2016-10-27</td>\n",
       "      <td>-1.000000</td>\n",
       "    </tr>\n",
       "    <tr>\n",
       "      <th>111300</th>\n",
       "      <td>34.0</td>\n",
       "      <td>2016-12-24</td>\n",
       "      <td>3.666667</td>\n",
       "    </tr>\n",
       "  </tbody>\n",
       "</table>\n",
       "</div>"
      ],
      "text/plain": [
       "         x_id    date_day   x_value\n",
       "128015  121.0  2017-02-16  3.000000\n",
       "83146   461.0  2016-03-31  3.000000\n",
       "24772   308.0  2016-11-19  3.000000\n",
       "79080   209.0  2016-06-28  3.000000\n",
       "125862  162.0  2016-08-29  3.000000\n",
       "58202   964.0  2017-03-10  1.000000\n",
       "45665    98.0  2016-12-20  3.000000\n",
       "135438   40.0  2016-12-22  2.500000\n",
       "46525    16.0  2016-10-27 -1.000000\n",
       "111300   34.0  2016-12-24  3.666667"
      ]
     },
     "execution_count": 24,
     "metadata": {},
     "output_type": "execute_result"
    }
   ],
   "source": [
    "df_unclean.sample(10)"
   ]
  },
  {
   "cell_type": "code",
   "execution_count": null,
   "metadata": {},
   "outputs": [],
   "source": []
  },
  {
   "cell_type": "code",
   "execution_count": null,
   "metadata": {},
   "outputs": [],
   "source": []
  },
  {
   "cell_type": "markdown",
   "metadata": {},
   "source": [
    "# Forward and backwards filling of missing values"
   ]
  },
  {
   "cell_type": "code",
   "execution_count": 25,
   "metadata": {},
   "outputs": [],
   "source": [
    "df_unclean = df_unclean0.copy()"
   ]
  },
  {
   "cell_type": "code",
   "execution_count": 26,
   "metadata": {},
   "outputs": [
    {
     "data": {
      "text/plain": [
       "38.0     74\n",
       "194.0    60\n",
       "219.0    59\n",
       "101.0    58\n",
       "226.0    58\n",
       "         ..\n",
       "333.0     1\n",
       "429.0     1\n",
       "306.0     1\n",
       "396.0     1\n",
       "495.0     1\n",
       "Name: x_id, Length: 505, dtype: int64"
      ]
     },
     "execution_count": 26,
     "metadata": {},
     "output_type": "execute_result"
    }
   ],
   "source": [
    "df_unclean[df_unclean.x_value.isnull()].x_id.value_counts()"
   ]
  },
  {
   "cell_type": "code",
   "execution_count": 27,
   "metadata": {},
   "outputs": [],
   "source": [
    "df_unclean_3 = df_unclean[(df_unclean['x_id'] == 59) & \n",
    "                          (~(df_unclean['date_day'].isnull()))]"
   ]
  },
  {
   "cell_type": "code",
   "execution_count": 30,
   "metadata": {},
   "outputs": [
    {
     "data": {
      "text/html": [
       "<div>\n",
       "<style scoped>\n",
       "    .dataframe tbody tr th:only-of-type {\n",
       "        vertical-align: middle;\n",
       "    }\n",
       "\n",
       "    .dataframe tbody tr th {\n",
       "        vertical-align: top;\n",
       "    }\n",
       "\n",
       "    .dataframe thead th {\n",
       "        text-align: right;\n",
       "    }\n",
       "</style>\n",
       "<table border=\"1\" class=\"dataframe\">\n",
       "  <thead>\n",
       "    <tr style=\"text-align: right;\">\n",
       "      <th></th>\n",
       "      <th>x_id</th>\n",
       "      <th>date_day</th>\n",
       "      <th>x_value</th>\n",
       "    </tr>\n",
       "  </thead>\n",
       "  <tbody>\n",
       "    <tr>\n",
       "      <th>57213</th>\n",
       "      <td>59.0</td>\n",
       "      <td>2017-03-09</td>\n",
       "      <td>2.25</td>\n",
       "    </tr>\n",
       "    <tr>\n",
       "      <th>91293</th>\n",
       "      <td>59.0</td>\n",
       "      <td>2017-03-10</td>\n",
       "      <td>2.25</td>\n",
       "    </tr>\n",
       "    <tr>\n",
       "      <th>9542</th>\n",
       "      <td>59.0</td>\n",
       "      <td>2017-03-11</td>\n",
       "      <td>2.50</td>\n",
       "    </tr>\n",
       "    <tr>\n",
       "      <th>91537</th>\n",
       "      <td>59.0</td>\n",
       "      <td>2017-03-12</td>\n",
       "      <td>4.00</td>\n",
       "    </tr>\n",
       "    <tr>\n",
       "      <th>60896</th>\n",
       "      <td>59.0</td>\n",
       "      <td>2017-03-13</td>\n",
       "      <td>NaN</td>\n",
       "    </tr>\n",
       "    <tr>\n",
       "      <th>7260</th>\n",
       "      <td>59.0</td>\n",
       "      <td>2017-03-15</td>\n",
       "      <td>2.00</td>\n",
       "    </tr>\n",
       "    <tr>\n",
       "      <th>122862</th>\n",
       "      <td>59.0</td>\n",
       "      <td>2017-03-16</td>\n",
       "      <td>3.00</td>\n",
       "    </tr>\n",
       "    <tr>\n",
       "      <th>28334</th>\n",
       "      <td>59.0</td>\n",
       "      <td>2017-03-16</td>\n",
       "      <td>3.00</td>\n",
       "    </tr>\n",
       "    <tr>\n",
       "      <th>49441</th>\n",
       "      <td>59.0</td>\n",
       "      <td>2017-03-18</td>\n",
       "      <td>NaN</td>\n",
       "    </tr>\n",
       "    <tr>\n",
       "      <th>105380</th>\n",
       "      <td>59.0</td>\n",
       "      <td>2017-03-18</td>\n",
       "      <td>NaN</td>\n",
       "    </tr>\n",
       "  </tbody>\n",
       "</table>\n",
       "</div>"
      ],
      "text/plain": [
       "        x_id    date_day  x_value\n",
       "57213   59.0  2017-03-09     2.25\n",
       "91293   59.0  2017-03-10     2.25\n",
       "9542    59.0  2017-03-11     2.50\n",
       "91537   59.0  2017-03-12     4.00\n",
       "60896   59.0  2017-03-13      NaN\n",
       "7260    59.0  2017-03-15     2.00\n",
       "122862  59.0  2017-03-16     3.00\n",
       "28334   59.0  2017-03-16     3.00\n",
       "49441   59.0  2017-03-18      NaN\n",
       "105380  59.0  2017-03-18      NaN"
      ]
     },
     "execution_count": 30,
     "metadata": {},
     "output_type": "execute_result"
    }
   ],
   "source": [
    "df_unclean_3 = df_unclean_3.sort_values('date_day')\n",
    "df_unclean_3.tail(10)"
   ]
  },
  {
   "cell_type": "code",
   "execution_count": 31,
   "metadata": {},
   "outputs": [
    {
     "data": {
      "text/plain": [
       "x_id         0\n",
       "date_day     0\n",
       "x_value     24\n",
       "dtype: int64"
      ]
     },
     "execution_count": 31,
     "metadata": {},
     "output_type": "execute_result"
    }
   ],
   "source": [
    "df_unclean_3.isnull().sum()"
   ]
  },
  {
   "cell_type": "code",
   "execution_count": null,
   "metadata": {},
   "outputs": [],
   "source": []
  },
  {
   "cell_type": "code",
   "execution_count": 42,
   "metadata": {},
   "outputs": [
    {
     "data": {
      "text/plain": [
       "57213     2.25\n",
       "91293     2.25\n",
       "9542      2.50\n",
       "91537     4.00\n",
       "60896     4.00\n",
       "7260      2.00\n",
       "122862    3.00\n",
       "28334     3.00\n",
       "49441     3.00\n",
       "105380    3.00\n",
       "Name: x_value, dtype: float64"
      ]
     },
     "execution_count": 42,
     "metadata": {},
     "output_type": "execute_result"
    }
   ],
   "source": [
    "df_unclean_3['x_value'].fillna(method=\"ffill\").tail(10)"
   ]
  },
  {
   "cell_type": "code",
   "execution_count": 34,
   "metadata": {},
   "outputs": [
    {
     "data": {
      "text/plain": [
       "57213     2.25\n",
       "91293     2.25\n",
       "9542      2.50\n",
       "91537     4.00\n",
       "60896     2.00\n",
       "7260      2.00\n",
       "122862    3.00\n",
       "28334     3.00\n",
       "49441      NaN\n",
       "105380     NaN\n",
       "Name: x_value, dtype: float64"
      ]
     },
     "execution_count": 34,
     "metadata": {},
     "output_type": "execute_result"
    }
   ],
   "source": [
    "df_unclean_3['x_value'].fillna(method=\"bfill\").tail(10)"
   ]
  },
  {
   "cell_type": "code",
   "execution_count": null,
   "metadata": {},
   "outputs": [],
   "source": []
  },
  {
   "cell_type": "code",
   "execution_count": 38,
   "metadata": {},
   "outputs": [
    {
     "data": {
      "text/plain": [
       "3.3044932079414835"
      ]
     },
     "execution_count": 38,
     "metadata": {},
     "output_type": "execute_result"
    }
   ],
   "source": [
    "df_unclean_3['x_value'].fillna(method=\"ffill\").mean()"
   ]
  },
  {
   "cell_type": "code",
   "execution_count": 39,
   "metadata": {},
   "outputs": [],
   "source": [
    "df_unclean_3['x_value_filled'] = df_unclean_3['x_value'].fillna(3.30449)"
   ]
  },
  {
   "cell_type": "code",
   "execution_count": 41,
   "metadata": {},
   "outputs": [
    {
     "data": {
      "text/html": [
       "<div>\n",
       "<style scoped>\n",
       "    .dataframe tbody tr th:only-of-type {\n",
       "        vertical-align: middle;\n",
       "    }\n",
       "\n",
       "    .dataframe tbody tr th {\n",
       "        vertical-align: top;\n",
       "    }\n",
       "\n",
       "    .dataframe thead th {\n",
       "        text-align: right;\n",
       "    }\n",
       "</style>\n",
       "<table border=\"1\" class=\"dataframe\">\n",
       "  <thead>\n",
       "    <tr style=\"text-align: right;\">\n",
       "      <th></th>\n",
       "      <th>x_id</th>\n",
       "      <th>date_day</th>\n",
       "      <th>x_value</th>\n",
       "      <th>x_value_filled</th>\n",
       "    </tr>\n",
       "  </thead>\n",
       "  <tbody>\n",
       "    <tr>\n",
       "      <th>56039</th>\n",
       "      <td>59.0</td>\n",
       "      <td>2016-06-04</td>\n",
       "      <td>NaN</td>\n",
       "      <td>3.30449</td>\n",
       "    </tr>\n",
       "  </tbody>\n",
       "</table>\n",
       "</div>"
      ],
      "text/plain": [
       "       x_id    date_day  x_value  x_value_filled\n",
       "56039  59.0  2016-06-04      NaN         3.30449"
      ]
     },
     "execution_count": 41,
     "metadata": {},
     "output_type": "execute_result"
    }
   ],
   "source": [
    "df_unclean_3.sample()"
   ]
  },
  {
   "cell_type": "code",
   "execution_count": null,
   "metadata": {},
   "outputs": [],
   "source": []
  },
  {
   "cell_type": "markdown",
   "metadata": {},
   "source": [
    "## Duplicate"
   ]
  },
  {
   "cell_type": "code",
   "execution_count": 43,
   "metadata": {},
   "outputs": [
    {
     "data": {
      "text/html": [
       "<div>\n",
       "<style scoped>\n",
       "    .dataframe tbody tr th:only-of-type {\n",
       "        vertical-align: middle;\n",
       "    }\n",
       "\n",
       "    .dataframe tbody tr th {\n",
       "        vertical-align: top;\n",
       "    }\n",
       "\n",
       "    .dataframe thead th {\n",
       "        text-align: right;\n",
       "    }\n",
       "</style>\n",
       "<table border=\"1\" class=\"dataframe\">\n",
       "  <thead>\n",
       "    <tr style=\"text-align: right;\">\n",
       "      <th></th>\n",
       "      <th>x_id</th>\n",
       "      <th>date_day</th>\n",
       "      <th>x_value</th>\n",
       "    </tr>\n",
       "  </thead>\n",
       "  <tbody>\n",
       "    <tr>\n",
       "      <th>0</th>\n",
       "      <td>134.0</td>\n",
       "      <td>2016-12-23</td>\n",
       "      <td>3.00</td>\n",
       "    </tr>\n",
       "    <tr>\n",
       "      <th>1</th>\n",
       "      <td>217.0</td>\n",
       "      <td>2017-02-20</td>\n",
       "      <td>2.00</td>\n",
       "    </tr>\n",
       "    <tr>\n",
       "      <th>2</th>\n",
       "      <td>173.0</td>\n",
       "      <td>2016-11-18</td>\n",
       "      <td>2.40</td>\n",
       "    </tr>\n",
       "    <tr>\n",
       "      <th>3</th>\n",
       "      <td>65.0</td>\n",
       "      <td>2016-04-21</td>\n",
       "      <td>3.00</td>\n",
       "    </tr>\n",
       "    <tr>\n",
       "      <th>4</th>\n",
       "      <td>102.0</td>\n",
       "      <td>2016-12-07</td>\n",
       "      <td>2.75</td>\n",
       "    </tr>\n",
       "    <tr>\n",
       "      <th>...</th>\n",
       "      <td>...</td>\n",
       "      <td>...</td>\n",
       "      <td>...</td>\n",
       "    </tr>\n",
       "    <tr>\n",
       "      <th>139995</th>\n",
       "      <td>43.0</td>\n",
       "      <td>2016-10-17</td>\n",
       "      <td>3.00</td>\n",
       "    </tr>\n",
       "    <tr>\n",
       "      <th>139996</th>\n",
       "      <td>663.0</td>\n",
       "      <td>2016-10-07</td>\n",
       "      <td>2.00</td>\n",
       "    </tr>\n",
       "    <tr>\n",
       "      <th>139997</th>\n",
       "      <td>143.0</td>\n",
       "      <td>2015-06-07</td>\n",
       "      <td>1.00</td>\n",
       "    </tr>\n",
       "    <tr>\n",
       "      <th>139998</th>\n",
       "      <td>130.0</td>\n",
       "      <td>2016-07-18</td>\n",
       "      <td>3.00</td>\n",
       "    </tr>\n",
       "    <tr>\n",
       "      <th>139999</th>\n",
       "      <td>137.0</td>\n",
       "      <td>2016-06-17</td>\n",
       "      <td>2.00</td>\n",
       "    </tr>\n",
       "  </tbody>\n",
       "</table>\n",
       "<p>140000 rows × 3 columns</p>\n",
       "</div>"
      ],
      "text/plain": [
       "         x_id    date_day  x_value\n",
       "0       134.0  2016-12-23     3.00\n",
       "1       217.0  2017-02-20     2.00\n",
       "2       173.0  2016-11-18     2.40\n",
       "3        65.0  2016-04-21     3.00\n",
       "4       102.0  2016-12-07     2.75\n",
       "...       ...         ...      ...\n",
       "139995   43.0  2016-10-17     3.00\n",
       "139996  663.0  2016-10-07     2.00\n",
       "139997  143.0  2015-06-07     1.00\n",
       "139998  130.0  2016-07-18     3.00\n",
       "139999  137.0  2016-06-17     2.00\n",
       "\n",
       "[140000 rows x 3 columns]"
      ]
     },
     "execution_count": 43,
     "metadata": {},
     "output_type": "execute_result"
    }
   ],
   "source": [
    "df_unclean"
   ]
  },
  {
   "cell_type": "code",
   "execution_count": 45,
   "metadata": {},
   "outputs": [
    {
     "data": {
      "text/html": [
       "<div>\n",
       "<style scoped>\n",
       "    .dataframe tbody tr th:only-of-type {\n",
       "        vertical-align: middle;\n",
       "    }\n",
       "\n",
       "    .dataframe tbody tr th {\n",
       "        vertical-align: top;\n",
       "    }\n",
       "\n",
       "    .dataframe thead th {\n",
       "        text-align: right;\n",
       "    }\n",
       "</style>\n",
       "<table border=\"1\" class=\"dataframe\">\n",
       "  <thead>\n",
       "    <tr style=\"text-align: right;\">\n",
       "      <th></th>\n",
       "      <th>x_id</th>\n",
       "      <th>date_day</th>\n",
       "      <th>x_value</th>\n",
       "    </tr>\n",
       "  </thead>\n",
       "  <tbody>\n",
       "    <tr>\n",
       "      <th>0</th>\n",
       "      <td>134.0</td>\n",
       "      <td>2016-12-23</td>\n",
       "      <td>3.000000</td>\n",
       "    </tr>\n",
       "    <tr>\n",
       "      <th>1</th>\n",
       "      <td>217.0</td>\n",
       "      <td>2017-02-20</td>\n",
       "      <td>2.000000</td>\n",
       "    </tr>\n",
       "    <tr>\n",
       "      <th>2</th>\n",
       "      <td>173.0</td>\n",
       "      <td>2016-11-18</td>\n",
       "      <td>2.400000</td>\n",
       "    </tr>\n",
       "    <tr>\n",
       "      <th>3</th>\n",
       "      <td>65.0</td>\n",
       "      <td>2016-04-21</td>\n",
       "      <td>3.000000</td>\n",
       "    </tr>\n",
       "    <tr>\n",
       "      <th>4</th>\n",
       "      <td>102.0</td>\n",
       "      <td>2016-12-07</td>\n",
       "      <td>2.750000</td>\n",
       "    </tr>\n",
       "    <tr>\n",
       "      <th>...</th>\n",
       "      <td>...</td>\n",
       "      <td>...</td>\n",
       "      <td>...</td>\n",
       "    </tr>\n",
       "    <tr>\n",
       "      <th>139982</th>\n",
       "      <td>190.0</td>\n",
       "      <td>2017-02-08</td>\n",
       "      <td>2.333333</td>\n",
       "    </tr>\n",
       "    <tr>\n",
       "      <th>139983</th>\n",
       "      <td>225.0</td>\n",
       "      <td>2016-09-18</td>\n",
       "      <td>3.500000</td>\n",
       "    </tr>\n",
       "    <tr>\n",
       "      <th>139991</th>\n",
       "      <td>827.0</td>\n",
       "      <td>2016-11-08</td>\n",
       "      <td>2.000000</td>\n",
       "    </tr>\n",
       "    <tr>\n",
       "      <th>139996</th>\n",
       "      <td>663.0</td>\n",
       "      <td>2016-10-07</td>\n",
       "      <td>2.000000</td>\n",
       "    </tr>\n",
       "    <tr>\n",
       "      <th>139997</th>\n",
       "      <td>143.0</td>\n",
       "      <td>2015-06-07</td>\n",
       "      <td>1.000000</td>\n",
       "    </tr>\n",
       "  </tbody>\n",
       "</table>\n",
       "<p>102178 rows × 3 columns</p>\n",
       "</div>"
      ],
      "text/plain": [
       "         x_id    date_day   x_value\n",
       "0       134.0  2016-12-23  3.000000\n",
       "1       217.0  2017-02-20  2.000000\n",
       "2       173.0  2016-11-18  2.400000\n",
       "3        65.0  2016-04-21  3.000000\n",
       "4       102.0  2016-12-07  2.750000\n",
       "...       ...         ...       ...\n",
       "139982  190.0  2017-02-08  2.333333\n",
       "139983  225.0  2016-09-18  3.500000\n",
       "139991  827.0  2016-11-08  2.000000\n",
       "139996  663.0  2016-10-07  2.000000\n",
       "139997  143.0  2015-06-07  1.000000\n",
       "\n",
       "[102178 rows x 3 columns]"
      ]
     },
     "execution_count": 45,
     "metadata": {},
     "output_type": "execute_result"
    }
   ],
   "source": [
    "df_unclean.drop_duplicates()"
   ]
  },
  {
   "cell_type": "code",
   "execution_count": 47,
   "metadata": {},
   "outputs": [],
   "source": [
    "df_unclean_unique = df_unclean.drop_duplicates()"
   ]
  },
  {
   "cell_type": "code",
   "execution_count": 49,
   "metadata": {},
   "outputs": [],
   "source": [
    "## Notes : if the duplicates has different values, you can use GroupBy "
   ]
  },
  {
   "cell_type": "code",
   "execution_count": null,
   "metadata": {},
   "outputs": [],
   "source": []
  },
  {
   "cell_type": "markdown",
   "metadata": {},
   "source": [
    "## Outliers\n",
    "\n",
    "simple outliers formula"
   ]
  },
  {
   "cell_type": "code",
   "execution_count": 50,
   "metadata": {},
   "outputs": [
    {
     "data": {
      "text/plain": [
       "x_id         240\n",
       "date_day      73\n",
       "x_value     6848\n",
       "dtype: int64"
      ]
     },
     "execution_count": 50,
     "metadata": {},
     "output_type": "execute_result"
    }
   ],
   "source": [
    "df_unclean_unique.isnull().sum()"
   ]
  },
  {
   "cell_type": "code",
   "execution_count": 52,
   "metadata": {},
   "outputs": [],
   "source": [
    "df_unclean_unique_null = df_unclean_unique[df_unclean_unique.x_value.isnull()]\n",
    "df_unclean_unique_nonnull = df_unclean_unique[~(df_unclean_unique.x_value.isnull())]"
   ]
  },
  {
   "cell_type": "code",
   "execution_count": 53,
   "metadata": {},
   "outputs": [],
   "source": [
    "Mx = df_unclean_unique_nonnull['x_value'].mean()\n",
    "Sx = df_unclean_unique_nonnull['x_value'].std()"
   ]
  },
  {
   "cell_type": "code",
   "execution_count": 54,
   "metadata": {},
   "outputs": [
    {
     "data": {
      "text/plain": [
       "(1.00757346810413, 4.643254477692857)"
      ]
     },
     "execution_count": 54,
     "metadata": {},
     "output_type": "execute_result"
    }
   ],
   "source": [
    "Mx-(2*Sx), Mx+(2*Sx)"
   ]
  },
  {
   "cell_type": "code",
   "execution_count": 56,
   "metadata": {},
   "outputs": [],
   "source": [
    "def is_outlier(x):\n",
    "    if (x >= Mx-(2*Sx)) & (x <= Mx+(2*Sx)) :\n",
    "        return False\n",
    "    else:\n",
    "        return True"
   ]
  },
  {
   "cell_type": "code",
   "execution_count": 57,
   "metadata": {},
   "outputs": [
    {
     "data": {
      "text/plain": [
       "0         False\n",
       "1         False\n",
       "2         False\n",
       "3         False\n",
       "4         False\n",
       "          ...  \n",
       "139982    False\n",
       "139983    False\n",
       "139991    False\n",
       "139996    False\n",
       "139997     True\n",
       "Name: x_value, Length: 95330, dtype: bool"
      ]
     },
     "execution_count": 57,
     "metadata": {},
     "output_type": "execute_result"
    }
   ],
   "source": [
    "df_unclean_unique_nonnull['x_value'].apply(is_outlier)"
   ]
  },
  {
   "cell_type": "code",
   "execution_count": 58,
   "metadata": {},
   "outputs": [
    {
     "name": "stderr",
     "output_type": "stream",
     "text": [
      "/Users/alamhanz/anaconda/envs/p37/lib/python3.7/site-packages/ipykernel_launcher.py:1: SettingWithCopyWarning: \n",
      "A value is trying to be set on a copy of a slice from a DataFrame.\n",
      "Try using .loc[row_indexer,col_indexer] = value instead\n",
      "\n",
      "See the caveats in the documentation: https://pandas.pydata.org/pandas-docs/stable/user_guide/indexing.html#returning-a-view-versus-a-copy\n",
      "  \"\"\"Entry point for launching an IPython kernel.\n"
     ]
    }
   ],
   "source": [
    "df_unclean_unique_nonnull['detect_outlier'] = df_unclean_unique_nonnull['x_value'].apply(is_outlier)"
   ]
  },
  {
   "cell_type": "code",
   "execution_count": 69,
   "metadata": {},
   "outputs": [
    {
     "data": {
      "text/plain": [
       "(10625, 4)"
      ]
     },
     "execution_count": 69,
     "metadata": {},
     "output_type": "execute_result"
    }
   ],
   "source": [
    "df_unclean_unique_nonnull[df_unclean_unique_nonnull['detect_outlier'] == 1].shape"
   ]
  },
  {
   "cell_type": "code",
   "execution_count": 70,
   "metadata": {},
   "outputs": [
    {
     "data": {
      "text/plain": [
       "0.11145494597713207"
      ]
     },
     "execution_count": 70,
     "metadata": {},
     "output_type": "execute_result"
    }
   ],
   "source": [
    "10625/df_unclean_unique_nonnull.shape[0]"
   ]
  },
  {
   "cell_type": "code",
   "execution_count": 68,
   "metadata": {},
   "outputs": [
    {
     "data": {
      "text/html": [
       "<div>\n",
       "<style scoped>\n",
       "    .dataframe tbody tr th:only-of-type {\n",
       "        vertical-align: middle;\n",
       "    }\n",
       "\n",
       "    .dataframe tbody tr th {\n",
       "        vertical-align: top;\n",
       "    }\n",
       "\n",
       "    .dataframe thead th {\n",
       "        text-align: right;\n",
       "    }\n",
       "</style>\n",
       "<table border=\"1\" class=\"dataframe\">\n",
       "  <thead>\n",
       "    <tr style=\"text-align: right;\">\n",
       "      <th></th>\n",
       "      <th>x_id</th>\n",
       "      <th>date_day</th>\n",
       "      <th>x_value</th>\n",
       "      <th>detect_outlier</th>\n",
       "    </tr>\n",
       "  </thead>\n",
       "  <tbody>\n",
       "    <tr>\n",
       "      <th>107488</th>\n",
       "      <td>215.0</td>\n",
       "      <td>2016-02-10</td>\n",
       "      <td>1.000000</td>\n",
       "      <td>True</td>\n",
       "    </tr>\n",
       "    <tr>\n",
       "      <th>89113</th>\n",
       "      <td>123.0</td>\n",
       "      <td>2015-09-23</td>\n",
       "      <td>1.000000</td>\n",
       "      <td>True</td>\n",
       "    </tr>\n",
       "    <tr>\n",
       "      <th>32178</th>\n",
       "      <td>208.0</td>\n",
       "      <td>2016-01-29</td>\n",
       "      <td>1.000000</td>\n",
       "      <td>True</td>\n",
       "    </tr>\n",
       "    <tr>\n",
       "      <th>83385</th>\n",
       "      <td>679.0</td>\n",
       "      <td>2017-01-26</td>\n",
       "      <td>1.000000</td>\n",
       "      <td>True</td>\n",
       "    </tr>\n",
       "    <tr>\n",
       "      <th>104411</th>\n",
       "      <td>115.0</td>\n",
       "      <td>2015-07-14</td>\n",
       "      <td>1.000000</td>\n",
       "      <td>True</td>\n",
       "    </tr>\n",
       "    <tr>\n",
       "      <th>135456</th>\n",
       "      <td>566.0</td>\n",
       "      <td>2017-03-15</td>\n",
       "      <td>5.297846</td>\n",
       "      <td>True</td>\n",
       "    </tr>\n",
       "    <tr>\n",
       "      <th>49645</th>\n",
       "      <td>212.0</td>\n",
       "      <td>2016-05-03</td>\n",
       "      <td>1.000000</td>\n",
       "      <td>True</td>\n",
       "    </tr>\n",
       "    <tr>\n",
       "      <th>135476</th>\n",
       "      <td>20.0</td>\n",
       "      <td>2016-08-05</td>\n",
       "      <td>1.000000</td>\n",
       "      <td>True</td>\n",
       "    </tr>\n",
       "    <tr>\n",
       "      <th>136887</th>\n",
       "      <td>468.0</td>\n",
       "      <td>2017-03-09</td>\n",
       "      <td>1.000000</td>\n",
       "      <td>True</td>\n",
       "    </tr>\n",
       "    <tr>\n",
       "      <th>12410</th>\n",
       "      <td>103.0</td>\n",
       "      <td>2015-05-20</td>\n",
       "      <td>1.000000</td>\n",
       "      <td>True</td>\n",
       "    </tr>\n",
       "  </tbody>\n",
       "</table>\n",
       "</div>"
      ],
      "text/plain": [
       "         x_id    date_day   x_value  detect_outlier\n",
       "107488  215.0  2016-02-10  1.000000            True\n",
       "89113   123.0  2015-09-23  1.000000            True\n",
       "32178   208.0  2016-01-29  1.000000            True\n",
       "83385   679.0  2017-01-26  1.000000            True\n",
       "104411  115.0  2015-07-14  1.000000            True\n",
       "135456  566.0  2017-03-15  5.297846            True\n",
       "49645   212.0  2016-05-03  1.000000            True\n",
       "135476   20.0  2016-08-05  1.000000            True\n",
       "136887  468.0  2017-03-09  1.000000            True\n",
       "12410   103.0  2015-05-20  1.000000            True"
      ]
     },
     "execution_count": 68,
     "metadata": {},
     "output_type": "execute_result"
    }
   ],
   "source": [
    "df_unclean_unique_nonnull[df_unclean_unique_nonnull['detect_outlier'] == 1].sample(10)"
   ]
  },
  {
   "cell_type": "code",
   "execution_count": null,
   "metadata": {},
   "outputs": [],
   "source": []
  },
  {
   "cell_type": "code",
   "execution_count": 71,
   "metadata": {},
   "outputs": [
    {
     "data": {
      "text/plain": [
       "(1.00757346810413, 4.643254477692857)"
      ]
     },
     "execution_count": 71,
     "metadata": {},
     "output_type": "execute_result"
    }
   ],
   "source": [
    "## Handling Outlier (one options)\n",
    "max_acceptable_value = Mx+(2*Sx)\n",
    "min_acceptable_value = Mx-(2*Sx)\n",
    "min_acceptable_value,max_acceptable_value"
   ]
  },
  {
   "cell_type": "code",
   "execution_count": 79,
   "metadata": {},
   "outputs": [
    {
     "name": "stderr",
     "output_type": "stream",
     "text": [
      "/Users/alamhanz/anaconda/envs/p37/lib/python3.7/site-packages/ipykernel_launcher.py:3: SettingWithCopyWarning: \n",
      "A value is trying to be set on a copy of a slice from a DataFrame.\n",
      "Try using .loc[row_indexer,col_indexer] = value instead\n",
      "\n",
      "See the caveats in the documentation: https://pandas.pydata.org/pandas-docs/stable/user_guide/indexing.html#returning-a-view-versus-a-copy\n",
      "  This is separate from the ipykernel package so we can avoid doing imports until\n"
     ]
    }
   ],
   "source": [
    "df_unclean_unique_nonnull['x_value_handle'] = np.where(df_unclean_unique_nonnull['x_value'] > max_acceptable_value, max_acceptable_value,\n",
    "         np.where(df_unclean_unique_nonnull['x_value'] < min_acceptable_value, min_acceptable_value,\n",
    "                 df_unclean_unique_nonnull['x_value']))"
   ]
  },
  {
   "cell_type": "code",
   "execution_count": 80,
   "metadata": {},
   "outputs": [],
   "source": [
    "# A = 15"
   ]
  },
  {
   "cell_type": "code",
   "execution_count": 81,
   "metadata": {},
   "outputs": [],
   "source": [
    "# np.where(A>10,1,3)"
   ]
  },
  {
   "cell_type": "code",
   "execution_count": null,
   "metadata": {},
   "outputs": [],
   "source": []
  },
  {
   "cell_type": "code",
   "execution_count": 94,
   "metadata": {},
   "outputs": [
    {
     "data": {
      "text/html": [
       "<div>\n",
       "<style scoped>\n",
       "    .dataframe tbody tr th:only-of-type {\n",
       "        vertical-align: middle;\n",
       "    }\n",
       "\n",
       "    .dataframe tbody tr th {\n",
       "        vertical-align: top;\n",
       "    }\n",
       "\n",
       "    .dataframe thead th {\n",
       "        text-align: right;\n",
       "    }\n",
       "</style>\n",
       "<table border=\"1\" class=\"dataframe\">\n",
       "  <thead>\n",
       "    <tr style=\"text-align: right;\">\n",
       "      <th></th>\n",
       "      <th>x_id</th>\n",
       "      <th>date_day</th>\n",
       "      <th>x_value</th>\n",
       "      <th>detect_outlier</th>\n",
       "      <th>x_value_handle</th>\n",
       "    </tr>\n",
       "  </thead>\n",
       "  <tbody>\n",
       "    <tr>\n",
       "      <th>69508</th>\n",
       "      <td>92.0</td>\n",
       "      <td>2016-08-20</td>\n",
       "      <td>6.00445</td>\n",
       "      <td>True</td>\n",
       "      <td>4.643254</td>\n",
       "    </tr>\n",
       "    <tr>\n",
       "      <th>56998</th>\n",
       "      <td>215.0</td>\n",
       "      <td>2016-11-02</td>\n",
       "      <td>1.00000</td>\n",
       "      <td>True</td>\n",
       "      <td>1.007573</td>\n",
       "    </tr>\n",
       "    <tr>\n",
       "      <th>116528</th>\n",
       "      <td>255.0</td>\n",
       "      <td>2016-01-26</td>\n",
       "      <td>1.00000</td>\n",
       "      <td>True</td>\n",
       "      <td>1.007573</td>\n",
       "    </tr>\n",
       "    <tr>\n",
       "      <th>9741</th>\n",
       "      <td>191.0</td>\n",
       "      <td>2015-05-29</td>\n",
       "      <td>1.00000</td>\n",
       "      <td>True</td>\n",
       "      <td>1.007573</td>\n",
       "    </tr>\n",
       "    <tr>\n",
       "      <th>41398</th>\n",
       "      <td>208.0</td>\n",
       "      <td>2016-07-28</td>\n",
       "      <td>1.00000</td>\n",
       "      <td>True</td>\n",
       "      <td>1.007573</td>\n",
       "    </tr>\n",
       "    <tr>\n",
       "      <th>9670</th>\n",
       "      <td>293.0</td>\n",
       "      <td>2016-12-23</td>\n",
       "      <td>1.00000</td>\n",
       "      <td>True</td>\n",
       "      <td>1.007573</td>\n",
       "    </tr>\n",
       "    <tr>\n",
       "      <th>61429</th>\n",
       "      <td>139.0</td>\n",
       "      <td>2015-11-17</td>\n",
       "      <td>1.00000</td>\n",
       "      <td>True</td>\n",
       "      <td>1.007573</td>\n",
       "    </tr>\n",
       "    <tr>\n",
       "      <th>85146</th>\n",
       "      <td>681.0</td>\n",
       "      <td>2017-01-07</td>\n",
       "      <td>1.00000</td>\n",
       "      <td>True</td>\n",
       "      <td>1.007573</td>\n",
       "    </tr>\n",
       "    <tr>\n",
       "      <th>17049</th>\n",
       "      <td>553.0</td>\n",
       "      <td>2015-11-24</td>\n",
       "      <td>1.00000</td>\n",
       "      <td>True</td>\n",
       "      <td>1.007573</td>\n",
       "    </tr>\n",
       "    <tr>\n",
       "      <th>102893</th>\n",
       "      <td>461.0</td>\n",
       "      <td>2016-10-19</td>\n",
       "      <td>1.00000</td>\n",
       "      <td>True</td>\n",
       "      <td>1.007573</td>\n",
       "    </tr>\n",
       "    <tr>\n",
       "      <th>69448</th>\n",
       "      <td>52.0</td>\n",
       "      <td>2017-02-04</td>\n",
       "      <td>-0.19237</td>\n",
       "      <td>True</td>\n",
       "      <td>1.007573</td>\n",
       "    </tr>\n",
       "    <tr>\n",
       "      <th>60760</th>\n",
       "      <td>2.0</td>\n",
       "      <td>2015-10-14</td>\n",
       "      <td>1.00000</td>\n",
       "      <td>True</td>\n",
       "      <td>1.007573</td>\n",
       "    </tr>\n",
       "    <tr>\n",
       "      <th>66582</th>\n",
       "      <td>158.0</td>\n",
       "      <td>2016-07-01</td>\n",
       "      <td>1.00000</td>\n",
       "      <td>True</td>\n",
       "      <td>1.007573</td>\n",
       "    </tr>\n",
       "    <tr>\n",
       "      <th>56852</th>\n",
       "      <td>964.0</td>\n",
       "      <td>2017-01-25</td>\n",
       "      <td>1.00000</td>\n",
       "      <td>True</td>\n",
       "      <td>1.007573</td>\n",
       "    </tr>\n",
       "    <tr>\n",
       "      <th>10967</th>\n",
       "      <td>370.0</td>\n",
       "      <td>2016-09-02</td>\n",
       "      <td>1.00000</td>\n",
       "      <td>True</td>\n",
       "      <td>1.007573</td>\n",
       "    </tr>\n",
       "  </tbody>\n",
       "</table>\n",
       "</div>"
      ],
      "text/plain": [
       "         x_id    date_day  x_value  detect_outlier  x_value_handle\n",
       "69508    92.0  2016-08-20  6.00445            True        4.643254\n",
       "56998   215.0  2016-11-02  1.00000            True        1.007573\n",
       "116528  255.0  2016-01-26  1.00000            True        1.007573\n",
       "9741    191.0  2015-05-29  1.00000            True        1.007573\n",
       "41398   208.0  2016-07-28  1.00000            True        1.007573\n",
       "9670    293.0  2016-12-23  1.00000            True        1.007573\n",
       "61429   139.0  2015-11-17  1.00000            True        1.007573\n",
       "85146   681.0  2017-01-07  1.00000            True        1.007573\n",
       "17049   553.0  2015-11-24  1.00000            True        1.007573\n",
       "102893  461.0  2016-10-19  1.00000            True        1.007573\n",
       "69448    52.0  2017-02-04 -0.19237            True        1.007573\n",
       "60760     2.0  2015-10-14  1.00000            True        1.007573\n",
       "66582   158.0  2016-07-01  1.00000            True        1.007573\n",
       "56852   964.0  2017-01-25  1.00000            True        1.007573\n",
       "10967   370.0  2016-09-02  1.00000            True        1.007573"
      ]
     },
     "execution_count": 94,
     "metadata": {},
     "output_type": "execute_result"
    }
   ],
   "source": [
    "df_unclean_unique_nonnull[df_unclean_unique_nonnull['detect_outlier'] == 1].sample(15)"
   ]
  },
  {
   "cell_type": "code",
   "execution_count": null,
   "metadata": {},
   "outputs": [],
   "source": []
  },
  {
   "cell_type": "code",
   "execution_count": null,
   "metadata": {},
   "outputs": [],
   "source": []
  }
 ],
 "metadata": {
  "kernelspec": {
   "display_name": "p37",
   "language": "python",
   "name": "p37"
  },
  "language_info": {
   "codemirror_mode": {
    "name": "ipython",
    "version": 3
   },
   "file_extension": ".py",
   "mimetype": "text/x-python",
   "name": "python",
   "nbconvert_exporter": "python",
   "pygments_lexer": "ipython3",
   "version": "3.7.9"
  }
 },
 "nbformat": 4,
 "nbformat_minor": 4
}
