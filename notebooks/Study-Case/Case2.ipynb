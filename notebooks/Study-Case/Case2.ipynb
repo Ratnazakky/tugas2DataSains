{
 "cells": [
  {
   "cell_type": "markdown",
   "metadata": {},
   "source": [
    "Day 2 (part2)\n",
    "\n",
    "From Employee Dataset :\n",
    "1. average of vote who still Exist on November 2016\n",
    "2. average of comment's dislikes who churn on April 2017 (compare with not churn?)\n",
    "\n",
    "From Food Dataset :\n",
    "1. (food data) how many customer who active on September 2018? and how many who still active on November 2018?"
   ]
  },
  {
   "cell_type": "code",
   "execution_count": null,
   "metadata": {},
   "outputs": [],
   "source": []
  },
  {
   "cell_type": "code",
   "execution_count": 33,
   "metadata": {},
   "outputs": [],
   "source": [
    "# 1. (food data) how many customer who active on September 2018? and still active on November 2018?\n",
    "# 1. (food data) how many customer who active on August 2018? and still active on Sept 2018?"
   ]
  },
  {
   "cell_type": "code",
   "execution_count": 34,
   "metadata": {},
   "outputs": [],
   "source": [
    "import pandas as pd"
   ]
  },
  {
   "cell_type": "code",
   "execution_count": 35,
   "metadata": {},
   "outputs": [],
   "source": [
    "PATH_DATA1 = '../../mydata/'"
   ]
  },
  {
   "cell_type": "code",
   "execution_count": 36,
   "metadata": {},
   "outputs": [],
   "source": [
    "df_food = pd.read_csv(PATH_DATA1+'food_delivery_datasets.csv')"
   ]
  },
  {
   "cell_type": "code",
   "execution_count": 37,
   "metadata": {},
   "outputs": [
    {
     "data": {
      "text/html": [
       "<div>\n",
       "<style scoped>\n",
       "    .dataframe tbody tr th:only-of-type {\n",
       "        vertical-align: middle;\n",
       "    }\n",
       "\n",
       "    .dataframe tbody tr th {\n",
       "        vertical-align: top;\n",
       "    }\n",
       "\n",
       "    .dataframe thead th {\n",
       "        text-align: right;\n",
       "    }\n",
       "</style>\n",
       "<table border=\"1\" class=\"dataframe\">\n",
       "  <thead>\n",
       "    <tr style=\"text-align: right;\">\n",
       "      <th></th>\n",
       "      <th>order_id</th>\n",
       "      <th>voucher_amount</th>\n",
       "      <th>date_time</th>\n",
       "      <th>eta_seconds</th>\n",
       "      <th>food_price</th>\n",
       "      <th>cust_id</th>\n",
       "      <th>rating</th>\n",
       "      <th>delivery_fee</th>\n",
       "      <th>resto_id</th>\n",
       "      <th>status</th>\n",
       "      <th>random_id</th>\n",
       "    </tr>\n",
       "  </thead>\n",
       "  <tbody>\n",
       "    <tr>\n",
       "      <th>0</th>\n",
       "      <td>FOOD-10455</td>\n",
       "      <td>0</td>\n",
       "      <td>2018-08-12T20:35:08.001006</td>\n",
       "      <td>1800</td>\n",
       "      <td>18900</td>\n",
       "      <td>1089034</td>\n",
       "      <td>5.0</td>\n",
       "      <td>4000</td>\n",
       "      <td>742638033</td>\n",
       "      <td>Completed</td>\n",
       "      <td>0.511149</td>\n",
       "    </tr>\n",
       "    <tr>\n",
       "      <th>1</th>\n",
       "      <td>FOOD-10985</td>\n",
       "      <td>0</td>\n",
       "      <td>2018-09-23T17:44:12.243273</td>\n",
       "      <td>2173</td>\n",
       "      <td>149000</td>\n",
       "      <td>180146</td>\n",
       "      <td>5.0</td>\n",
       "      <td>11000</td>\n",
       "      <td>742767245</td>\n",
       "      <td>Completed</td>\n",
       "      <td>0.832936</td>\n",
       "    </tr>\n",
       "    <tr>\n",
       "      <th>2</th>\n",
       "      <td>FOOD-10911</td>\n",
       "      <td>0</td>\n",
       "      <td>2018-09-19T18:08:09.387991</td>\n",
       "      <td>1418</td>\n",
       "      <td>43800</td>\n",
       "      <td>366528</td>\n",
       "      <td>NaN</td>\n",
       "      <td>9000</td>\n",
       "      <td>742618303</td>\n",
       "      <td>Completed</td>\n",
       "      <td>0.828026</td>\n",
       "    </tr>\n",
       "    <tr>\n",
       "      <th>3</th>\n",
       "      <td>FOOD-10932</td>\n",
       "      <td>0</td>\n",
       "      <td>2018-09-21T01:24:35.272499</td>\n",
       "      <td>1903</td>\n",
       "      <td>39900</td>\n",
       "      <td>511038</td>\n",
       "      <td>5.0</td>\n",
       "      <td>14000</td>\n",
       "      <td>742541172</td>\n",
       "      <td>Completed</td>\n",
       "      <td>0.239377</td>\n",
       "    </tr>\n",
       "    <tr>\n",
       "      <th>4</th>\n",
       "      <td>FOOD-10961</td>\n",
       "      <td>0</td>\n",
       "      <td>2018-09-22T17:57:45.523161</td>\n",
       "      <td>1716</td>\n",
       "      <td>77700</td>\n",
       "      <td>1220358</td>\n",
       "      <td>NaN</td>\n",
       "      <td>4000</td>\n",
       "      <td>742604875</td>\n",
       "      <td>Completed</td>\n",
       "      <td>0.995587</td>\n",
       "    </tr>\n",
       "  </tbody>\n",
       "</table>\n",
       "</div>"
      ],
      "text/plain": [
       "     order_id  voucher_amount                   date_time  eta_seconds  \\\n",
       "0  FOOD-10455               0  2018-08-12T20:35:08.001006         1800   \n",
       "1  FOOD-10985               0  2018-09-23T17:44:12.243273         2173   \n",
       "2  FOOD-10911               0  2018-09-19T18:08:09.387991         1418   \n",
       "3  FOOD-10932               0  2018-09-21T01:24:35.272499         1903   \n",
       "4  FOOD-10961               0  2018-09-22T17:57:45.523161         1716   \n",
       "\n",
       "   food_price  cust_id  rating  delivery_fee   resto_id     status  random_id  \n",
       "0       18900  1089034     5.0          4000  742638033  Completed   0.511149  \n",
       "1      149000   180146     5.0         11000  742767245  Completed   0.832936  \n",
       "2       43800   366528     NaN          9000  742618303  Completed   0.828026  \n",
       "3       39900   511038     5.0         14000  742541172  Completed   0.239377  \n",
       "4       77700  1220358     NaN          4000  742604875  Completed   0.995587  "
      ]
     },
     "execution_count": 37,
     "metadata": {},
     "output_type": "execute_result"
    }
   ],
   "source": [
    "df_food.head()"
   ]
  },
  {
   "cell_type": "code",
   "execution_count": 38,
   "metadata": {},
   "outputs": [],
   "source": [
    "df_food['date_time'] = pd.to_datetime(df_food['date_time'])\n",
    "df_food['month_f'] = df_food['date_time'].dt.strftime('%Y-%m')"
   ]
  },
  {
   "cell_type": "code",
   "execution_count": 39,
   "metadata": {},
   "outputs": [
    {
     "data": {
      "text/html": [
       "<div>\n",
       "<style scoped>\n",
       "    .dataframe tbody tr th:only-of-type {\n",
       "        vertical-align: middle;\n",
       "    }\n",
       "\n",
       "    .dataframe tbody tr th {\n",
       "        vertical-align: top;\n",
       "    }\n",
       "\n",
       "    .dataframe thead th {\n",
       "        text-align: right;\n",
       "    }\n",
       "</style>\n",
       "<table border=\"1\" class=\"dataframe\">\n",
       "  <thead>\n",
       "    <tr style=\"text-align: right;\">\n",
       "      <th></th>\n",
       "      <th>order_id</th>\n",
       "      <th>voucher_amount</th>\n",
       "      <th>date_time</th>\n",
       "      <th>eta_seconds</th>\n",
       "      <th>food_price</th>\n",
       "      <th>cust_id</th>\n",
       "      <th>rating</th>\n",
       "      <th>delivery_fee</th>\n",
       "      <th>resto_id</th>\n",
       "      <th>status</th>\n",
       "      <th>random_id</th>\n",
       "      <th>month_f</th>\n",
       "    </tr>\n",
       "  </thead>\n",
       "  <tbody>\n",
       "    <tr>\n",
       "      <th>0</th>\n",
       "      <td>FOOD-10455</td>\n",
       "      <td>0</td>\n",
       "      <td>2018-08-12 20:35:08.001006</td>\n",
       "      <td>1800</td>\n",
       "      <td>18900</td>\n",
       "      <td>1089034</td>\n",
       "      <td>5.0</td>\n",
       "      <td>4000</td>\n",
       "      <td>742638033</td>\n",
       "      <td>Completed</td>\n",
       "      <td>0.511149</td>\n",
       "      <td>2018-08</td>\n",
       "    </tr>\n",
       "    <tr>\n",
       "      <th>1</th>\n",
       "      <td>FOOD-10985</td>\n",
       "      <td>0</td>\n",
       "      <td>2018-09-23 17:44:12.243273</td>\n",
       "      <td>2173</td>\n",
       "      <td>149000</td>\n",
       "      <td>180146</td>\n",
       "      <td>5.0</td>\n",
       "      <td>11000</td>\n",
       "      <td>742767245</td>\n",
       "      <td>Completed</td>\n",
       "      <td>0.832936</td>\n",
       "      <td>2018-09</td>\n",
       "    </tr>\n",
       "    <tr>\n",
       "      <th>2</th>\n",
       "      <td>FOOD-10911</td>\n",
       "      <td>0</td>\n",
       "      <td>2018-09-19 18:08:09.387991</td>\n",
       "      <td>1418</td>\n",
       "      <td>43800</td>\n",
       "      <td>366528</td>\n",
       "      <td>NaN</td>\n",
       "      <td>9000</td>\n",
       "      <td>742618303</td>\n",
       "      <td>Completed</td>\n",
       "      <td>0.828026</td>\n",
       "      <td>2018-09</td>\n",
       "    </tr>\n",
       "    <tr>\n",
       "      <th>3</th>\n",
       "      <td>FOOD-10932</td>\n",
       "      <td>0</td>\n",
       "      <td>2018-09-21 01:24:35.272499</td>\n",
       "      <td>1903</td>\n",
       "      <td>39900</td>\n",
       "      <td>511038</td>\n",
       "      <td>5.0</td>\n",
       "      <td>14000</td>\n",
       "      <td>742541172</td>\n",
       "      <td>Completed</td>\n",
       "      <td>0.239377</td>\n",
       "      <td>2018-09</td>\n",
       "    </tr>\n",
       "    <tr>\n",
       "      <th>4</th>\n",
       "      <td>FOOD-10961</td>\n",
       "      <td>0</td>\n",
       "      <td>2018-09-22 17:57:45.523161</td>\n",
       "      <td>1716</td>\n",
       "      <td>77700</td>\n",
       "      <td>1220358</td>\n",
       "      <td>NaN</td>\n",
       "      <td>4000</td>\n",
       "      <td>742604875</td>\n",
       "      <td>Completed</td>\n",
       "      <td>0.995587</td>\n",
       "      <td>2018-09</td>\n",
       "    </tr>\n",
       "  </tbody>\n",
       "</table>\n",
       "</div>"
      ],
      "text/plain": [
       "     order_id  voucher_amount                  date_time  eta_seconds  \\\n",
       "0  FOOD-10455               0 2018-08-12 20:35:08.001006         1800   \n",
       "1  FOOD-10985               0 2018-09-23 17:44:12.243273         2173   \n",
       "2  FOOD-10911               0 2018-09-19 18:08:09.387991         1418   \n",
       "3  FOOD-10932               0 2018-09-21 01:24:35.272499         1903   \n",
       "4  FOOD-10961               0 2018-09-22 17:57:45.523161         1716   \n",
       "\n",
       "   food_price  cust_id  rating  delivery_fee   resto_id     status  random_id  \\\n",
       "0       18900  1089034     5.0          4000  742638033  Completed   0.511149   \n",
       "1      149000   180146     5.0         11000  742767245  Completed   0.832936   \n",
       "2       43800   366528     NaN          9000  742618303  Completed   0.828026   \n",
       "3       39900   511038     5.0         14000  742541172  Completed   0.239377   \n",
       "4       77700  1220358     NaN          4000  742604875  Completed   0.995587   \n",
       "\n",
       "   month_f  \n",
       "0  2018-08  \n",
       "1  2018-09  \n",
       "2  2018-09  \n",
       "3  2018-09  \n",
       "4  2018-09  "
      ]
     },
     "execution_count": 39,
     "metadata": {},
     "output_type": "execute_result"
    }
   ],
   "source": [
    "df_food.head()"
   ]
  },
  {
   "cell_type": "code",
   "execution_count": 40,
   "metadata": {},
   "outputs": [
    {
     "data": {
      "text/plain": [
       "array(['2018-08', '2018-09', '2018-07'], dtype=object)"
      ]
     },
     "execution_count": 40,
     "metadata": {},
     "output_type": "execute_result"
    }
   ],
   "source": [
    "df_food['month_f'].unique()"
   ]
  },
  {
   "cell_type": "code",
   "execution_count": 41,
   "metadata": {},
   "outputs": [
    {
     "data": {
      "text/plain": [
       "95"
      ]
     },
     "execution_count": 41,
     "metadata": {},
     "output_type": "execute_result"
    }
   ],
   "source": [
    "## Active = Completed Order --> Assumption (hati2, bisa terjadi bias)\n",
    "df_aug = df_food[(df_food['status']=='Completed') & (df_food['month_f']=='2018-08')]\n",
    "cust_aug = df_aug['cust_id'].unique() ## --> array (customer active di bulan agustus)\n",
    "len(cust_aug)"
   ]
  },
  {
   "cell_type": "code",
   "execution_count": 42,
   "metadata": {},
   "outputs": [
    {
     "data": {
      "text/plain": [
       "array([1089034, 1472725,  304856, 1163202, 1319474,  366721, 1191779,\n",
       "       1230166, 1364703,  588886, 1194303, 1079631, 1383625,  589253,\n",
       "       1505030,  316834,  472466,  158214, 1406088, 1050269, 1284060,\n",
       "        906222, 1514562, 1379631,  123830,  180146,  912287,  617777,\n",
       "        594840,  466885, 1481304,  647544, 1240387,  884440, 1094787,\n",
       "        697545, 1404077,  463180, 1081809, 1135466,  594262, 1232372,\n",
       "        352393,  630004, 1011942,  675089, 1044732,  949010,  395715,\n",
       "        866805,  380092,  357568, 1379865, 1360716, 1351793, 1544551,\n",
       "         82880, 1008998,  849324, 1095259,  687194,  940042, 1305973,\n",
       "        103236,  532173,  815241,  943758,   22895,  293834,  511038,\n",
       "       1113881, 1010922,  960065,  228764,  785629,  143669,  366528,\n",
       "        929284,  185166,  193679,   70701, 1150199,  725307,   62551,\n",
       "        638765,  410472,  783781, 1220358,  854709,  805438,  472361,\n",
       "        514284,  854741,  616763, 1479204])"
      ]
     },
     "execution_count": 42,
     "metadata": {},
     "output_type": "execute_result"
    }
   ],
   "source": [
    "cust_aug"
   ]
  },
  {
   "cell_type": "code",
   "execution_count": 43,
   "metadata": {},
   "outputs": [
    {
     "data": {
      "text/plain": [
       "85"
      ]
     },
     "execution_count": 43,
     "metadata": {},
     "output_type": "execute_result"
    }
   ],
   "source": [
    "df_sept = df_food[(df_food['status']=='Completed') & (df_food['month_f']=='2018-09')] ## --> order complete di Sept\n",
    "\n",
    "df_sept2 = df_sept[df_sept['cust_id'].isin(cust_aug)] ## order yg dilakuin sama temen2 August 2018\n",
    "\n",
    "len(df_sept2['cust_id'].unique())"
   ]
  },
  {
   "cell_type": "markdown",
   "metadata": {},
   "source": [
    "yg balik lagi bulan september ada 85 dari 95 di agustus (~90% return)"
   ]
  },
  {
   "cell_type": "code",
   "execution_count": 44,
   "metadata": {},
   "outputs": [
    {
     "data": {
      "text/plain": [
       "0.8947368421052632"
      ]
     },
     "execution_count": 44,
     "metadata": {},
     "output_type": "execute_result"
    }
   ],
   "source": [
    "85/95"
   ]
  },
  {
   "cell_type": "code",
   "execution_count": null,
   "metadata": {},
   "outputs": [],
   "source": []
  },
  {
   "cell_type": "code",
   "execution_count": null,
   "metadata": {},
   "outputs": [],
   "source": []
  },
  {
   "cell_type": "code",
   "execution_count": 69,
   "metadata": {},
   "outputs": [],
   "source": [
    "# 2. average of comment's dislikes on February 2017 for churn employee (compare with not churn?)"
   ]
  },
  {
   "cell_type": "code",
   "execution_count": 48,
   "metadata": {},
   "outputs": [],
   "source": [
    "PATH_DATA2 = '../../mydata/employee_data/'"
   ]
  },
  {
   "cell_type": "code",
   "execution_count": 52,
   "metadata": {},
   "outputs": [],
   "source": [
    "data_dislike = pd.read_csv(PATH_DATA2+'comments_clean_anonimized.csv')\n",
    "data_churn = pd.read_csv(PATH_DATA2+'churn.csv')"
   ]
  },
  {
   "cell_type": "code",
   "execution_count": 53,
   "metadata": {},
   "outputs": [
    {
     "data": {
      "text/html": [
       "<div>\n",
       "<style scoped>\n",
       "    .dataframe tbody tr th:only-of-type {\n",
       "        vertical-align: middle;\n",
       "    }\n",
       "\n",
       "    .dataframe tbody tr th {\n",
       "        vertical-align: top;\n",
       "    }\n",
       "\n",
       "    .dataframe thead th {\n",
       "        text-align: right;\n",
       "    }\n",
       "</style>\n",
       "<table border=\"1\" class=\"dataframe\">\n",
       "  <thead>\n",
       "    <tr style=\"text-align: right;\">\n",
       "      <th></th>\n",
       "      <th>employee</th>\n",
       "      <th>companyAlias</th>\n",
       "      <th>commentId</th>\n",
       "      <th>txt</th>\n",
       "      <th>likes</th>\n",
       "      <th>dislikes</th>\n",
       "      <th>commentDate</th>\n",
       "    </tr>\n",
       "  </thead>\n",
       "  <tbody>\n",
       "    <tr>\n",
       "      <th>0</th>\n",
       "      <td>307</td>\n",
       "      <td>56aec740f1ef260003e307d6</td>\n",
       "      <td>58d018d7e010990004e38070</td>\n",
       "      <td>**********************************************...</td>\n",
       "      <td>4.0</td>\n",
       "      <td>0.0</td>\n",
       "      <td>Mon Mar 20 19:00:17 CET 2017</td>\n",
       "    </tr>\n",
       "    <tr>\n",
       "      <th>1</th>\n",
       "      <td>382</td>\n",
       "      <td>56aec740f1ef260003e307d6</td>\n",
       "      <td>58d0179ae010990004e3806d</td>\n",
       "      <td>*****************************</td>\n",
       "      <td>1.0</td>\n",
       "      <td>2.0</td>\n",
       "      <td>Mon Mar 20 18:55:16 CET 2017</td>\n",
       "    </tr>\n",
       "    <tr>\n",
       "      <th>2</th>\n",
       "      <td>172</td>\n",
       "      <td>56aec740f1ef260003e307d6</td>\n",
       "      <td>58cff8cde010990004e37f6a</td>\n",
       "      <td>***************************</td>\n",
       "      <td>3.0</td>\n",
       "      <td>0.0</td>\n",
       "      <td>Mon Mar 20 16:44:02 CET 2017</td>\n",
       "    </tr>\n",
       "    <tr>\n",
       "      <th>3</th>\n",
       "      <td>135</td>\n",
       "      <td>56aec740f1ef260003e307d6</td>\n",
       "      <td>58cfefeee010990004e37f60</td>\n",
       "      <td>***************************</td>\n",
       "      <td>1.0</td>\n",
       "      <td>1.0</td>\n",
       "      <td>Mon Mar 20 16:06:08 CET 2017</td>\n",
       "    </tr>\n",
       "    <tr>\n",
       "      <th>4</th>\n",
       "      <td>225</td>\n",
       "      <td>56aec740f1ef260003e307d6</td>\n",
       "      <td>58cfd9b4e010990004e37f52</td>\n",
       "      <td>*********************************</td>\n",
       "      <td>3.0</td>\n",
       "      <td>2.0</td>\n",
       "      <td>Mon Mar 20 14:30:50 CET 2017</td>\n",
       "    </tr>\n",
       "  </tbody>\n",
       "</table>\n",
       "</div>"
      ],
      "text/plain": [
       "   employee              companyAlias                 commentId  \\\n",
       "0       307  56aec740f1ef260003e307d6  58d018d7e010990004e38070   \n",
       "1       382  56aec740f1ef260003e307d6  58d0179ae010990004e3806d   \n",
       "2       172  56aec740f1ef260003e307d6  58cff8cde010990004e37f6a   \n",
       "3       135  56aec740f1ef260003e307d6  58cfefeee010990004e37f60   \n",
       "4       225  56aec740f1ef260003e307d6  58cfd9b4e010990004e37f52   \n",
       "\n",
       "                                                 txt  likes  dislikes  \\\n",
       "0  **********************************************...    4.0       0.0   \n",
       "1                      *****************************    1.0       2.0   \n",
       "2                        ***************************    3.0       0.0   \n",
       "3                        ***************************    1.0       1.0   \n",
       "4                  *********************************    3.0       2.0   \n",
       "\n",
       "                    commentDate  \n",
       "0  Mon Mar 20 19:00:17 CET 2017  \n",
       "1  Mon Mar 20 18:55:16 CET 2017  \n",
       "2  Mon Mar 20 16:44:02 CET 2017  \n",
       "3  Mon Mar 20 16:06:08 CET 2017  \n",
       "4  Mon Mar 20 14:30:50 CET 2017  "
      ]
     },
     "execution_count": 53,
     "metadata": {},
     "output_type": "execute_result"
    }
   ],
   "source": [
    "data_dislike.head()"
   ]
  },
  {
   "cell_type": "code",
   "execution_count": 54,
   "metadata": {},
   "outputs": [
    {
     "data": {
      "text/html": [
       "<div>\n",
       "<style scoped>\n",
       "    .dataframe tbody tr th:only-of-type {\n",
       "        vertical-align: middle;\n",
       "    }\n",
       "\n",
       "    .dataframe tbody tr th {\n",
       "        vertical-align: top;\n",
       "    }\n",
       "\n",
       "    .dataframe thead th {\n",
       "        text-align: right;\n",
       "    }\n",
       "</style>\n",
       "<table border=\"1\" class=\"dataframe\">\n",
       "  <thead>\n",
       "    <tr style=\"text-align: right;\">\n",
       "      <th></th>\n",
       "      <th>employee</th>\n",
       "      <th>companyAlias</th>\n",
       "      <th>numVotes</th>\n",
       "      <th>lastParticipationDate</th>\n",
       "      <th>stillExists</th>\n",
       "    </tr>\n",
       "  </thead>\n",
       "  <tbody>\n",
       "    <tr>\n",
       "      <th>0</th>\n",
       "      <td>512</td>\n",
       "      <td>56aec740f1ef260003e307d6</td>\n",
       "      <td>4</td>\n",
       "      <td>Thu Feb 23 12:48:04 CET 2017</td>\n",
       "      <td>True</td>\n",
       "    </tr>\n",
       "    <tr>\n",
       "      <th>1</th>\n",
       "      <td>-2</td>\n",
       "      <td>56aec740f1ef260003e307d6</td>\n",
       "      <td>0</td>\n",
       "      <td>Wed Jan 18 14:00:55 CET 2017</td>\n",
       "      <td>False</td>\n",
       "    </tr>\n",
       "    <tr>\n",
       "      <th>2</th>\n",
       "      <td>2</td>\n",
       "      <td>56aec740f1ef260003e307d6</td>\n",
       "      <td>72</td>\n",
       "      <td>Fri Mar 17 01:00:00 CET 2017</td>\n",
       "      <td>True</td>\n",
       "    </tr>\n",
       "    <tr>\n",
       "      <th>3</th>\n",
       "      <td>487</td>\n",
       "      <td>56aec740f1ef260003e307d6</td>\n",
       "      <td>14</td>\n",
       "      <td>Sat Nov 19 15:02:14 CET 2016</td>\n",
       "      <td>False</td>\n",
       "    </tr>\n",
       "    <tr>\n",
       "      <th>4</th>\n",
       "      <td>3</td>\n",
       "      <td>56aec740f1ef260003e307d6</td>\n",
       "      <td>22</td>\n",
       "      <td>Thu Feb 16 01:00:00 CET 2017</td>\n",
       "      <td>True</td>\n",
       "    </tr>\n",
       "  </tbody>\n",
       "</table>\n",
       "</div>"
      ],
      "text/plain": [
       "   employee              companyAlias  numVotes         lastParticipationDate  \\\n",
       "0       512  56aec740f1ef260003e307d6         4  Thu Feb 23 12:48:04 CET 2017   \n",
       "1        -2  56aec740f1ef260003e307d6         0  Wed Jan 18 14:00:55 CET 2017   \n",
       "2         2  56aec740f1ef260003e307d6        72  Fri Mar 17 01:00:00 CET 2017   \n",
       "3       487  56aec740f1ef260003e307d6        14  Sat Nov 19 15:02:14 CET 2016   \n",
       "4         3  56aec740f1ef260003e307d6        22  Thu Feb 16 01:00:00 CET 2017   \n",
       "\n",
       "   stillExists  \n",
       "0         True  \n",
       "1        False  \n",
       "2         True  \n",
       "3        False  \n",
       "4         True  "
      ]
     },
     "execution_count": 54,
     "metadata": {},
     "output_type": "execute_result"
    }
   ],
   "source": [
    "data_churn.head()"
   ]
  },
  {
   "cell_type": "code",
   "execution_count": 56,
   "metadata": {},
   "outputs": [],
   "source": [
    "data_dislike2 = data_dislike[['employee','companyAlias','dislikes','commentDate']]\n",
    "data_churn2 = data_churn[['employee','companyAlias','stillExists']]"
   ]
  },
  {
   "cell_type": "code",
   "execution_count": 57,
   "metadata": {},
   "outputs": [
    {
     "data": {
      "text/html": [
       "<div>\n",
       "<style scoped>\n",
       "    .dataframe tbody tr th:only-of-type {\n",
       "        vertical-align: middle;\n",
       "    }\n",
       "\n",
       "    .dataframe tbody tr th {\n",
       "        vertical-align: top;\n",
       "    }\n",
       "\n",
       "    .dataframe thead th {\n",
       "        text-align: right;\n",
       "    }\n",
       "</style>\n",
       "<table border=\"1\" class=\"dataframe\">\n",
       "  <thead>\n",
       "    <tr style=\"text-align: right;\">\n",
       "      <th></th>\n",
       "      <th>employee</th>\n",
       "      <th>companyAlias</th>\n",
       "      <th>dislikes</th>\n",
       "      <th>commentDate</th>\n",
       "    </tr>\n",
       "  </thead>\n",
       "  <tbody>\n",
       "    <tr>\n",
       "      <th>67599</th>\n",
       "      <td>24</td>\n",
       "      <td>573f2c4a3517490003ef7710</td>\n",
       "      <td>0.0</td>\n",
       "      <td>Thu Jun 09 06:46:44 CEST 2016</td>\n",
       "    </tr>\n",
       "    <tr>\n",
       "      <th>5648</th>\n",
       "      <td>47</td>\n",
       "      <td>56aec740f1ef260003e307d6</td>\n",
       "      <td>6.0</td>\n",
       "      <td>Thu Feb 09 17:07:50 CET 2017</td>\n",
       "    </tr>\n",
       "    <tr>\n",
       "      <th>15763</th>\n",
       "      <td>87</td>\n",
       "      <td>57bb2f0b3bae540003a8d453</td>\n",
       "      <td>2.0</td>\n",
       "      <td>Thu Dec 01 22:35:11 CET 2016</td>\n",
       "    </tr>\n",
       "    <tr>\n",
       "      <th>37229</th>\n",
       "      <td>146</td>\n",
       "      <td>54e52607e4b01191dc064966</td>\n",
       "      <td>9.0</td>\n",
       "      <td>Sun Jun 05 09:49:27 CEST 2016</td>\n",
       "    </tr>\n",
       "    <tr>\n",
       "      <th>62350</th>\n",
       "      <td>104</td>\n",
       "      <td>574c5ade56b6300003009965</td>\n",
       "      <td>0.0</td>\n",
       "      <td>Tue Jul 12 14:32:35 CEST 2016</td>\n",
       "    </tr>\n",
       "  </tbody>\n",
       "</table>\n",
       "</div>"
      ],
      "text/plain": [
       "       employee              companyAlias  dislikes  \\\n",
       "67599        24  573f2c4a3517490003ef7710       0.0   \n",
       "5648         47  56aec740f1ef260003e307d6       6.0   \n",
       "15763        87  57bb2f0b3bae540003a8d453       2.0   \n",
       "37229       146  54e52607e4b01191dc064966       9.0   \n",
       "62350       104  574c5ade56b6300003009965       0.0   \n",
       "\n",
       "                         commentDate  \n",
       "67599  Thu Jun 09 06:46:44 CEST 2016  \n",
       "5648    Thu Feb 09 17:07:50 CET 2017  \n",
       "15763   Thu Dec 01 22:35:11 CET 2016  \n",
       "37229  Sun Jun 05 09:49:27 CEST 2016  \n",
       "62350  Tue Jul 12 14:32:35 CEST 2016  "
      ]
     },
     "execution_count": 57,
     "metadata": {},
     "output_type": "execute_result"
    }
   ],
   "source": [
    "data_dislike2.sample(5)"
   ]
  },
  {
   "cell_type": "code",
   "execution_count": 58,
   "metadata": {},
   "outputs": [
    {
     "data": {
      "text/html": [
       "<div>\n",
       "<style scoped>\n",
       "    .dataframe tbody tr th:only-of-type {\n",
       "        vertical-align: middle;\n",
       "    }\n",
       "\n",
       "    .dataframe tbody tr th {\n",
       "        vertical-align: top;\n",
       "    }\n",
       "\n",
       "    .dataframe thead th {\n",
       "        text-align: right;\n",
       "    }\n",
       "</style>\n",
       "<table border=\"1\" class=\"dataframe\">\n",
       "  <thead>\n",
       "    <tr style=\"text-align: right;\">\n",
       "      <th></th>\n",
       "      <th>employee</th>\n",
       "      <th>companyAlias</th>\n",
       "      <th>stillExists</th>\n",
       "    </tr>\n",
       "  </thead>\n",
       "  <tbody>\n",
       "    <tr>\n",
       "      <th>4076</th>\n",
       "      <td>98</td>\n",
       "      <td>5742d699f839a10003a407d2</td>\n",
       "      <td>True</td>\n",
       "    </tr>\n",
       "    <tr>\n",
       "      <th>3961</th>\n",
       "      <td>315</td>\n",
       "      <td>57ac8b23be7fe30003e656d0</td>\n",
       "      <td>True</td>\n",
       "    </tr>\n",
       "    <tr>\n",
       "      <th>1145</th>\n",
       "      <td>38</td>\n",
       "      <td>581b08041a0ef8000308aef6</td>\n",
       "      <td>True</td>\n",
       "    </tr>\n",
       "    <tr>\n",
       "      <th>1230</th>\n",
       "      <td>166</td>\n",
       "      <td>581b08041a0ef8000308aef6</td>\n",
       "      <td>True</td>\n",
       "    </tr>\n",
       "    <tr>\n",
       "      <th>642</th>\n",
       "      <td>186</td>\n",
       "      <td>5370af43e4b0cff95558c12a</td>\n",
       "      <td>False</td>\n",
       "    </tr>\n",
       "  </tbody>\n",
       "</table>\n",
       "</div>"
      ],
      "text/plain": [
       "      employee              companyAlias  stillExists\n",
       "4076        98  5742d699f839a10003a407d2         True\n",
       "3961       315  57ac8b23be7fe30003e656d0         True\n",
       "1145        38  581b08041a0ef8000308aef6         True\n",
       "1230       166  581b08041a0ef8000308aef6         True\n",
       "642        186  5370af43e4b0cff95558c12a        False"
      ]
     },
     "execution_count": 58,
     "metadata": {},
     "output_type": "execute_result"
    }
   ],
   "source": [
    "data_churn2.sample(5)"
   ]
  },
  {
   "cell_type": "code",
   "execution_count": 59,
   "metadata": {},
   "outputs": [
    {
     "data": {
      "text/html": [
       "<div>\n",
       "<style scoped>\n",
       "    .dataframe tbody tr th:only-of-type {\n",
       "        vertical-align: middle;\n",
       "    }\n",
       "\n",
       "    .dataframe tbody tr th {\n",
       "        vertical-align: top;\n",
       "    }\n",
       "\n",
       "    .dataframe thead th {\n",
       "        text-align: right;\n",
       "    }\n",
       "</style>\n",
       "<table border=\"1\" class=\"dataframe\">\n",
       "  <thead>\n",
       "    <tr style=\"text-align: right;\">\n",
       "      <th></th>\n",
       "      <th>employee</th>\n",
       "      <th>companyAlias</th>\n",
       "      <th>dislikes</th>\n",
       "      <th>commentDate</th>\n",
       "      <th>stillExists</th>\n",
       "    </tr>\n",
       "  </thead>\n",
       "  <tbody>\n",
       "    <tr>\n",
       "      <th>47629</th>\n",
       "      <td>20</td>\n",
       "      <td>5641f96713664c000332c8cd</td>\n",
       "      <td>2.0</td>\n",
       "      <td>Sat Jun 04 14:14:13 CEST 2016</td>\n",
       "      <td>True</td>\n",
       "    </tr>\n",
       "    <tr>\n",
       "      <th>54000</th>\n",
       "      <td>36</td>\n",
       "      <td>57c4aa7dbb8b5c000396fd3b</td>\n",
       "      <td>0.0</td>\n",
       "      <td>Wed Oct 19 19:30:31 CEST 2016</td>\n",
       "      <td>True</td>\n",
       "    </tr>\n",
       "    <tr>\n",
       "      <th>27222</th>\n",
       "      <td>634</td>\n",
       "      <td>54e52607e4b01191dc064966</td>\n",
       "      <td>4.0</td>\n",
       "      <td>Wed Feb 08 18:46:05 CET 2017</td>\n",
       "      <td>True</td>\n",
       "    </tr>\n",
       "    <tr>\n",
       "      <th>31973</th>\n",
       "      <td>101</td>\n",
       "      <td>54e52607e4b01191dc064966</td>\n",
       "      <td>5.0</td>\n",
       "      <td>Fri Aug 14 08:39:38 CEST 2015</td>\n",
       "      <td>True</td>\n",
       "    </tr>\n",
       "    <tr>\n",
       "      <th>19929</th>\n",
       "      <td>182</td>\n",
       "      <td>581b08041a0ef8000308aef6</td>\n",
       "      <td>0.0</td>\n",
       "      <td>Mon Feb 06 08:24:50 CET 2017</td>\n",
       "      <td>True</td>\n",
       "    </tr>\n",
       "    <tr>\n",
       "      <th>63930</th>\n",
       "      <td>133</td>\n",
       "      <td>53a2dd43e4b01cc02f1e9011</td>\n",
       "      <td>0.0</td>\n",
       "      <td>Fri Nov 25 22:08:14 CET 2016</td>\n",
       "      <td>True</td>\n",
       "    </tr>\n",
       "    <tr>\n",
       "      <th>83261</th>\n",
       "      <td>209</td>\n",
       "      <td>58a728a0e75bda00042a3468</td>\n",
       "      <td>0.0</td>\n",
       "      <td>Sat Feb 25 22:39:01 CET 2017</td>\n",
       "      <td>True</td>\n",
       "    </tr>\n",
       "    <tr>\n",
       "      <th>67635</th>\n",
       "      <td>124</td>\n",
       "      <td>53a2dd43e4b01cc02f1e9011</td>\n",
       "      <td>0.0</td>\n",
       "      <td>Thu Mar 31 19:12:23 CEST 2016</td>\n",
       "      <td>True</td>\n",
       "    </tr>\n",
       "    <tr>\n",
       "      <th>35858</th>\n",
       "      <td>594</td>\n",
       "      <td>54e52607e4b01191dc064966</td>\n",
       "      <td>0.0</td>\n",
       "      <td>Tue Nov 29 17:39:34 CET 2016</td>\n",
       "      <td>True</td>\n",
       "    </tr>\n",
       "    <tr>\n",
       "      <th>3203</th>\n",
       "      <td>295</td>\n",
       "      <td>56aec740f1ef260003e307d6</td>\n",
       "      <td>2.0</td>\n",
       "      <td>Sat Aug 06 15:01:43 CEST 2016</td>\n",
       "      <td>True</td>\n",
       "    </tr>\n",
       "  </tbody>\n",
       "</table>\n",
       "</div>"
      ],
      "text/plain": [
       "       employee              companyAlias  dislikes  \\\n",
       "47629        20  5641f96713664c000332c8cd       2.0   \n",
       "54000        36  57c4aa7dbb8b5c000396fd3b       0.0   \n",
       "27222       634  54e52607e4b01191dc064966       4.0   \n",
       "31973       101  54e52607e4b01191dc064966       5.0   \n",
       "19929       182  581b08041a0ef8000308aef6       0.0   \n",
       "63930       133  53a2dd43e4b01cc02f1e9011       0.0   \n",
       "83261       209  58a728a0e75bda00042a3468       0.0   \n",
       "67635       124  53a2dd43e4b01cc02f1e9011       0.0   \n",
       "35858       594  54e52607e4b01191dc064966       0.0   \n",
       "3203        295  56aec740f1ef260003e307d6       2.0   \n",
       "\n",
       "                         commentDate stillExists  \n",
       "47629  Sat Jun 04 14:14:13 CEST 2016        True  \n",
       "54000  Wed Oct 19 19:30:31 CEST 2016        True  \n",
       "27222   Wed Feb 08 18:46:05 CET 2017        True  \n",
       "31973  Fri Aug 14 08:39:38 CEST 2015        True  \n",
       "19929   Mon Feb 06 08:24:50 CET 2017        True  \n",
       "63930   Fri Nov 25 22:08:14 CET 2016        True  \n",
       "83261   Sat Feb 25 22:39:01 CET 2017        True  \n",
       "67635  Thu Mar 31 19:12:23 CEST 2016        True  \n",
       "35858   Tue Nov 29 17:39:34 CET 2016        True  \n",
       "3203   Sat Aug 06 15:01:43 CEST 2016        True  "
      ]
     },
     "execution_count": 59,
     "metadata": {},
     "output_type": "execute_result"
    }
   ],
   "source": [
    "## churn --> stillExists = False\n",
    "data_dislike_complete = pd.merge(data_dislike2,data_churn2, on =['employee','companyAlias'],how ='left')\n",
    "data_dislike_complete.sample(10)"
   ]
  },
  {
   "cell_type": "code",
   "execution_count": 61,
   "metadata": {},
   "outputs": [
    {
     "name": "stdout",
     "output_type": "stream",
     "text": [
      "<class 'pandas.core.frame.DataFrame'>\n",
      "Int64Index: 83415 entries, 0 to 83414\n",
      "Data columns (total 5 columns):\n",
      "employee        83415 non-null int64\n",
      "companyAlias    83415 non-null object\n",
      "dislikes        83414 non-null float64\n",
      "commentDate     83414 non-null object\n",
      "stillExists     82796 non-null object\n",
      "dtypes: float64(1), int64(1), object(3)\n",
      "memory usage: 3.8+ MB\n"
     ]
    }
   ],
   "source": [
    "data_dislike_complete.info()"
   ]
  },
  {
   "cell_type": "code",
   "execution_count": 63,
   "metadata": {},
   "outputs": [],
   "source": [
    "data_dislike_complete['commentDate'] = pd.to_datetime(data_dislike_complete['commentDate'])\n",
    "data_dislike_complete['month_e'] = data_dislike_complete['commentDate'].dt.strftime('%Y-%m')"
   ]
  },
  {
   "cell_type": "code",
   "execution_count": 64,
   "metadata": {},
   "outputs": [
    {
     "data": {
      "text/html": [
       "<div>\n",
       "<style scoped>\n",
       "    .dataframe tbody tr th:only-of-type {\n",
       "        vertical-align: middle;\n",
       "    }\n",
       "\n",
       "    .dataframe tbody tr th {\n",
       "        vertical-align: top;\n",
       "    }\n",
       "\n",
       "    .dataframe thead th {\n",
       "        text-align: right;\n",
       "    }\n",
       "</style>\n",
       "<table border=\"1\" class=\"dataframe\">\n",
       "  <thead>\n",
       "    <tr style=\"text-align: right;\">\n",
       "      <th></th>\n",
       "      <th>employee</th>\n",
       "      <th>companyAlias</th>\n",
       "      <th>dislikes</th>\n",
       "      <th>commentDate</th>\n",
       "      <th>stillExists</th>\n",
       "      <th>month_e</th>\n",
       "    </tr>\n",
       "  </thead>\n",
       "  <tbody>\n",
       "    <tr>\n",
       "      <th>14923</th>\n",
       "      <td>140</td>\n",
       "      <td>57bb2f0b3bae540003a8d453</td>\n",
       "      <td>2.0</td>\n",
       "      <td>2016-10-12 13:34:52</td>\n",
       "      <td>True</td>\n",
       "      <td>2016-10</td>\n",
       "    </tr>\n",
       "    <tr>\n",
       "      <th>42928</th>\n",
       "      <td>-2</td>\n",
       "      <td>57dd2d6a4018d9000339ca43</td>\n",
       "      <td>0.0</td>\n",
       "      <td>2016-12-06 01:41:55</td>\n",
       "      <td>False</td>\n",
       "      <td>2016-12</td>\n",
       "    </tr>\n",
       "    <tr>\n",
       "      <th>1891</th>\n",
       "      <td>246</td>\n",
       "      <td>56aec740f1ef260003e307d6</td>\n",
       "      <td>1.0</td>\n",
       "      <td>2016-11-12 11:49:27</td>\n",
       "      <td>True</td>\n",
       "      <td>2016-11</td>\n",
       "    </tr>\n",
       "    <tr>\n",
       "      <th>36971</th>\n",
       "      <td>146</td>\n",
       "      <td>54e52607e4b01191dc064966</td>\n",
       "      <td>11.0</td>\n",
       "      <td>2016-07-20 08:25:59</td>\n",
       "      <td>False</td>\n",
       "      <td>2016-07</td>\n",
       "    </tr>\n",
       "    <tr>\n",
       "      <th>19798</th>\n",
       "      <td>18</td>\n",
       "      <td>581b08041a0ef8000308aef6</td>\n",
       "      <td>0.0</td>\n",
       "      <td>2017-02-20 12:19:20</td>\n",
       "      <td>True</td>\n",
       "      <td>2017-02</td>\n",
       "    </tr>\n",
       "    <tr>\n",
       "      <th>31570</th>\n",
       "      <td>-156</td>\n",
       "      <td>54e52607e4b01191dc064966</td>\n",
       "      <td>1.0</td>\n",
       "      <td>2015-09-23 10:19:36</td>\n",
       "      <td>False</td>\n",
       "      <td>2015-09</td>\n",
       "    </tr>\n",
       "    <tr>\n",
       "      <th>2799</th>\n",
       "      <td>305</td>\n",
       "      <td>56aec740f1ef260003e307d6</td>\n",
       "      <td>3.0</td>\n",
       "      <td>2016-09-21 17:49:43</td>\n",
       "      <td>True</td>\n",
       "      <td>2016-09</td>\n",
       "    </tr>\n",
       "    <tr>\n",
       "      <th>81422</th>\n",
       "      <td>573</td>\n",
       "      <td>58a728a0e75bda00042a3468</td>\n",
       "      <td>0.0</td>\n",
       "      <td>2017-03-14 11:43:32</td>\n",
       "      <td>True</td>\n",
       "      <td>2017-03</td>\n",
       "    </tr>\n",
       "    <tr>\n",
       "      <th>44378</th>\n",
       "      <td>311</td>\n",
       "      <td>57dd2d6a4018d9000339ca43</td>\n",
       "      <td>0.0</td>\n",
       "      <td>2016-10-25 14:31:37</td>\n",
       "      <td>True</td>\n",
       "      <td>2016-10</td>\n",
       "    </tr>\n",
       "    <tr>\n",
       "      <th>9844</th>\n",
       "      <td>19</td>\n",
       "      <td>56aec740f1ef260003e307d6</td>\n",
       "      <td>0.0</td>\n",
       "      <td>2016-03-15 16:18:37</td>\n",
       "      <td>True</td>\n",
       "      <td>2016-03</td>\n",
       "    </tr>\n",
       "  </tbody>\n",
       "</table>\n",
       "</div>"
      ],
      "text/plain": [
       "       employee              companyAlias  dislikes         commentDate  \\\n",
       "14923       140  57bb2f0b3bae540003a8d453       2.0 2016-10-12 13:34:52   \n",
       "42928        -2  57dd2d6a4018d9000339ca43       0.0 2016-12-06 01:41:55   \n",
       "1891        246  56aec740f1ef260003e307d6       1.0 2016-11-12 11:49:27   \n",
       "36971       146  54e52607e4b01191dc064966      11.0 2016-07-20 08:25:59   \n",
       "19798        18  581b08041a0ef8000308aef6       0.0 2017-02-20 12:19:20   \n",
       "31570      -156  54e52607e4b01191dc064966       1.0 2015-09-23 10:19:36   \n",
       "2799        305  56aec740f1ef260003e307d6       3.0 2016-09-21 17:49:43   \n",
       "81422       573  58a728a0e75bda00042a3468       0.0 2017-03-14 11:43:32   \n",
       "44378       311  57dd2d6a4018d9000339ca43       0.0 2016-10-25 14:31:37   \n",
       "9844         19  56aec740f1ef260003e307d6       0.0 2016-03-15 16:18:37   \n",
       "\n",
       "      stillExists  month_e  \n",
       "14923        True  2016-10  \n",
       "42928       False  2016-12  \n",
       "1891         True  2016-11  \n",
       "36971       False  2016-07  \n",
       "19798        True  2017-02  \n",
       "31570       False  2015-09  \n",
       "2799         True  2016-09  \n",
       "81422        True  2017-03  \n",
       "44378        True  2016-10  \n",
       "9844         True  2016-03  "
      ]
     },
     "execution_count": 64,
     "metadata": {},
     "output_type": "execute_result"
    }
   ],
   "source": [
    "data_dislike_complete.sample(10)"
   ]
  },
  {
   "cell_type": "code",
   "execution_count": 68,
   "metadata": {},
   "outputs": [
    {
     "data": {
      "text/plain": [
       "array(['2014-11', '2014-12', '2015-01', '2015-02', '2015-03', '2015-04',\n",
       "       '2015-05', '2015-06', '2015-07', '2015-08', '2015-09', '2015-10',\n",
       "       '2015-11', '2015-12', '2016-01', '2016-02', '2016-03', '2016-04',\n",
       "       '2016-05', '2016-06', '2016-07', '2016-08', '2016-09', '2016-10',\n",
       "       '2016-11', '2016-12', '2017-01', '2017-02', '2017-03', 'NaT'],\n",
       "      dtype=object)"
      ]
     },
     "execution_count": 68,
     "metadata": {},
     "output_type": "execute_result"
    }
   ],
   "source": [
    "X = data_dislike_complete['month_e'].unique()\n",
    "X.sort()\n",
    "X"
   ]
  },
  {
   "cell_type": "code",
   "execution_count": 74,
   "metadata": {},
   "outputs": [
    {
     "data": {
      "text/plain": [
       "4.085470085470085"
      ]
     },
     "execution_count": 74,
     "metadata": {},
     "output_type": "execute_result"
    }
   ],
   "source": [
    "February_Comment = data_dislike_complete[(data_dislike_complete['month_e']=='2017-02')]\n",
    "\n",
    "## Churn\n",
    "February_Comment[February_Comment['stillExists'] == False]['dislikes'].mean()"
   ]
  },
  {
   "cell_type": "code",
   "execution_count": 75,
   "metadata": {},
   "outputs": [
    {
     "data": {
      "text/plain": [
       "1.639094042343673"
      ]
     },
     "execution_count": 75,
     "metadata": {},
     "output_type": "execute_result"
    }
   ],
   "source": [
    "## Not Churn\n",
    "February_Comment[February_Comment['stillExists'] == True]['dislikes'].mean()"
   ]
  },
  {
   "cell_type": "code",
   "execution_count": null,
   "metadata": {},
   "outputs": [],
   "source": []
  }
 ],
 "metadata": {
  "kernelspec": {
   "display_name": "Python 3",
   "language": "python",
   "name": "python3"
  },
  "language_info": {
   "codemirror_mode": {
    "name": "ipython",
    "version": 3
   },
   "file_extension": ".py",
   "mimetype": "text/x-python",
   "name": "python",
   "nbconvert_exporter": "python",
   "pygments_lexer": "ipython3",
   "version": "3.6.7"
  }
 },
 "nbformat": 4,
 "nbformat_minor": 4
}
