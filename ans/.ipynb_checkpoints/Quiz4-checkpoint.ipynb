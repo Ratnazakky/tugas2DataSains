{
 "cells": [
  {
   "cell_type": "code",
   "execution_count": 1,
   "metadata": {},
   "outputs": [],
   "source": [
    "import pandas as pd\n",
    "import numpy as np\n",
    "import random"
   ]
  },
  {
   "cell_type": "code",
   "execution_count": 2,
   "metadata": {},
   "outputs": [],
   "source": [
    "PATH_DATA = '../mydata/'\n",
    "PATH_DATA2 = '../mydata/employee_data/'"
   ]
  },
  {
   "cell_type": "code",
   "execution_count": null,
   "metadata": {},
   "outputs": [],
   "source": []
  },
  {
   "cell_type": "markdown",
   "metadata": {},
   "source": [
    "1. daily average of rating if the null = 3"
   ]
  },
  {
   "cell_type": "code",
   "execution_count": 9,
   "metadata": {},
   "outputs": [],
   "source": [
    "df_food = pd.read_csv(PATH_DATA+'food_delivery_datasets.csv', parse_dates = ['date_time'])\n",
    "df_food['date'] = df_food['date_time'].dt.strftime('%Y-%m-%d')"
   ]
  },
  {
   "cell_type": "code",
   "execution_count": 10,
   "metadata": {},
   "outputs": [
    {
     "data": {
      "text/html": [
       "<div>\n",
       "<style scoped>\n",
       "    .dataframe tbody tr th:only-of-type {\n",
       "        vertical-align: middle;\n",
       "    }\n",
       "\n",
       "    .dataframe tbody tr th {\n",
       "        vertical-align: top;\n",
       "    }\n",
       "\n",
       "    .dataframe thead th {\n",
       "        text-align: right;\n",
       "    }\n",
       "</style>\n",
       "<table border=\"1\" class=\"dataframe\">\n",
       "  <thead>\n",
       "    <tr style=\"text-align: right;\">\n",
       "      <th></th>\n",
       "      <th>order_id</th>\n",
       "      <th>voucher_amount</th>\n",
       "      <th>date_time</th>\n",
       "      <th>eta_seconds</th>\n",
       "      <th>food_price</th>\n",
       "      <th>cust_id</th>\n",
       "      <th>rating</th>\n",
       "      <th>delivery_fee</th>\n",
       "      <th>resto_id</th>\n",
       "      <th>status</th>\n",
       "      <th>random_id</th>\n",
       "      <th>date</th>\n",
       "    </tr>\n",
       "  </thead>\n",
       "  <tbody>\n",
       "    <tr>\n",
       "      <th>0</th>\n",
       "      <td>FOOD-10455</td>\n",
       "      <td>0</td>\n",
       "      <td>2018-08-12 20:35:08.001006</td>\n",
       "      <td>1800</td>\n",
       "      <td>18900</td>\n",
       "      <td>1089034</td>\n",
       "      <td>5.0</td>\n",
       "      <td>4000</td>\n",
       "      <td>742638033</td>\n",
       "      <td>Completed</td>\n",
       "      <td>0.511149</td>\n",
       "      <td>2018-08-12</td>\n",
       "    </tr>\n",
       "    <tr>\n",
       "      <th>1</th>\n",
       "      <td>FOOD-10985</td>\n",
       "      <td>0</td>\n",
       "      <td>2018-09-23 17:44:12.243273</td>\n",
       "      <td>2173</td>\n",
       "      <td>149000</td>\n",
       "      <td>180146</td>\n",
       "      <td>5.0</td>\n",
       "      <td>11000</td>\n",
       "      <td>742767245</td>\n",
       "      <td>Completed</td>\n",
       "      <td>0.832936</td>\n",
       "      <td>2018-09-23</td>\n",
       "    </tr>\n",
       "    <tr>\n",
       "      <th>2</th>\n",
       "      <td>FOOD-10911</td>\n",
       "      <td>0</td>\n",
       "      <td>2018-09-19 18:08:09.387991</td>\n",
       "      <td>1418</td>\n",
       "      <td>43800</td>\n",
       "      <td>366528</td>\n",
       "      <td>NaN</td>\n",
       "      <td>9000</td>\n",
       "      <td>742618303</td>\n",
       "      <td>Completed</td>\n",
       "      <td>0.828026</td>\n",
       "      <td>2018-09-19</td>\n",
       "    </tr>\n",
       "    <tr>\n",
       "      <th>3</th>\n",
       "      <td>FOOD-10932</td>\n",
       "      <td>0</td>\n",
       "      <td>2018-09-21 01:24:35.272499</td>\n",
       "      <td>1903</td>\n",
       "      <td>39900</td>\n",
       "      <td>511038</td>\n",
       "      <td>5.0</td>\n",
       "      <td>14000</td>\n",
       "      <td>742541172</td>\n",
       "      <td>Completed</td>\n",
       "      <td>0.239377</td>\n",
       "      <td>2018-09-21</td>\n",
       "    </tr>\n",
       "    <tr>\n",
       "      <th>4</th>\n",
       "      <td>FOOD-10961</td>\n",
       "      <td>0</td>\n",
       "      <td>2018-09-22 17:57:45.523161</td>\n",
       "      <td>1716</td>\n",
       "      <td>77700</td>\n",
       "      <td>1220358</td>\n",
       "      <td>NaN</td>\n",
       "      <td>4000</td>\n",
       "      <td>742604875</td>\n",
       "      <td>Completed</td>\n",
       "      <td>0.995587</td>\n",
       "      <td>2018-09-22</td>\n",
       "    </tr>\n",
       "  </tbody>\n",
       "</table>\n",
       "</div>"
      ],
      "text/plain": [
       "     order_id  voucher_amount                  date_time  eta_seconds  \\\n",
       "0  FOOD-10455               0 2018-08-12 20:35:08.001006         1800   \n",
       "1  FOOD-10985               0 2018-09-23 17:44:12.243273         2173   \n",
       "2  FOOD-10911               0 2018-09-19 18:08:09.387991         1418   \n",
       "3  FOOD-10932               0 2018-09-21 01:24:35.272499         1903   \n",
       "4  FOOD-10961               0 2018-09-22 17:57:45.523161         1716   \n",
       "\n",
       "   food_price  cust_id  rating  delivery_fee   resto_id     status  random_id  \\\n",
       "0       18900  1089034     5.0          4000  742638033  Completed   0.511149   \n",
       "1      149000   180146     5.0         11000  742767245  Completed   0.832936   \n",
       "2       43800   366528     NaN          9000  742618303  Completed   0.828026   \n",
       "3       39900   511038     5.0         14000  742541172  Completed   0.239377   \n",
       "4       77700  1220358     NaN          4000  742604875  Completed   0.995587   \n",
       "\n",
       "         date  \n",
       "0  2018-08-12  \n",
       "1  2018-09-23  \n",
       "2  2018-09-19  \n",
       "3  2018-09-21  \n",
       "4  2018-09-22  "
      ]
     },
     "execution_count": 10,
     "metadata": {},
     "output_type": "execute_result"
    }
   ],
   "source": [
    "df_food.head()"
   ]
  },
  {
   "cell_type": "code",
   "execution_count": 11,
   "metadata": {},
   "outputs": [],
   "source": [
    "df_food['rating2'] = df_food['rating'].fillna(3)"
   ]
  },
  {
   "cell_type": "code",
   "execution_count": 14,
   "metadata": {},
   "outputs": [
    {
     "data": {
      "text/plain": [
       "4.147102592795149"
      ]
     },
     "execution_count": 14,
     "metadata": {},
     "output_type": "execute_result"
    }
   ],
   "source": [
    "df_food.groupby('date')['rating2'].mean().mean()"
   ]
  },
  {
   "cell_type": "code",
   "execution_count": null,
   "metadata": {},
   "outputs": [],
   "source": [
    "pd.to_datetime()"
   ]
  },
  {
   "cell_type": "code",
   "execution_count": null,
   "metadata": {},
   "outputs": [],
   "source": []
  },
  {
   "cell_type": "markdown",
   "metadata": {},
   "source": [
    "2. which company that has a person with the longest text"
   ]
  },
  {
   "cell_type": "code",
   "execution_count": 15,
   "metadata": {},
   "outputs": [
    {
     "name": "stderr",
     "output_type": "stream",
     "text": [
      "/Users/alamhanz/anaconda/envs/py36/lib/python3.6/site-packages/dateutil/parser/_parser.py:1204: UnknownTimezoneWarning: tzname CET identified but not understood.  Pass `tzinfos` argument in order to correctly return a timezone-aware datetime.  In a future version, this will raise an exception.\n",
      "  category=UnknownTimezoneWarning)\n",
      "/Users/alamhanz/anaconda/envs/py36/lib/python3.6/site-packages/dateutil/parser/_parser.py:1204: UnknownTimezoneWarning: tzname CEST identified but not understood.  Pass `tzinfos` argument in order to correctly return a timezone-aware datetime.  In a future version, this will raise an exception.\n",
      "  category=UnknownTimezoneWarning)\n"
     ]
    }
   ],
   "source": [
    "df_csv1 = pd.read_csv(PATH_DATA2+'comments_clean_anonimized.csv', parse_dates = ['commentDate'])"
   ]
  },
  {
   "cell_type": "code",
   "execution_count": 16,
   "metadata": {},
   "outputs": [
    {
     "data": {
      "text/plain": [
       "(82756, 7)"
      ]
     },
     "execution_count": 16,
     "metadata": {},
     "output_type": "execute_result"
    }
   ],
   "source": [
    "df_csv1.shape"
   ]
  },
  {
   "cell_type": "code",
   "execution_count": 17,
   "metadata": {},
   "outputs": [
    {
     "data": {
      "text/html": [
       "<div>\n",
       "<style scoped>\n",
       "    .dataframe tbody tr th:only-of-type {\n",
       "        vertical-align: middle;\n",
       "    }\n",
       "\n",
       "    .dataframe tbody tr th {\n",
       "        vertical-align: top;\n",
       "    }\n",
       "\n",
       "    .dataframe thead th {\n",
       "        text-align: right;\n",
       "    }\n",
       "</style>\n",
       "<table border=\"1\" class=\"dataframe\">\n",
       "  <thead>\n",
       "    <tr style=\"text-align: right;\">\n",
       "      <th></th>\n",
       "      <th>employee</th>\n",
       "      <th>companyAlias</th>\n",
       "      <th>commentId</th>\n",
       "      <th>txt</th>\n",
       "      <th>likes</th>\n",
       "      <th>dislikes</th>\n",
       "      <th>commentDate</th>\n",
       "    </tr>\n",
       "  </thead>\n",
       "  <tbody>\n",
       "    <tr>\n",
       "      <th>0</th>\n",
       "      <td>307</td>\n",
       "      <td>56aec740f1ef260003e307d6</td>\n",
       "      <td>58d018d7e010990004e38070</td>\n",
       "      <td>**********************************************...</td>\n",
       "      <td>4.0</td>\n",
       "      <td>0.0</td>\n",
       "      <td>2017-03-20 19:00:17</td>\n",
       "    </tr>\n",
       "    <tr>\n",
       "      <th>1</th>\n",
       "      <td>382</td>\n",
       "      <td>56aec740f1ef260003e307d6</td>\n",
       "      <td>58d0179ae010990004e3806d</td>\n",
       "      <td>*****************************</td>\n",
       "      <td>1.0</td>\n",
       "      <td>2.0</td>\n",
       "      <td>2017-03-20 18:55:16</td>\n",
       "    </tr>\n",
       "    <tr>\n",
       "      <th>2</th>\n",
       "      <td>172</td>\n",
       "      <td>56aec740f1ef260003e307d6</td>\n",
       "      <td>58cff8cde010990004e37f6a</td>\n",
       "      <td>***************************</td>\n",
       "      <td>3.0</td>\n",
       "      <td>0.0</td>\n",
       "      <td>2017-03-20 16:44:02</td>\n",
       "    </tr>\n",
       "    <tr>\n",
       "      <th>3</th>\n",
       "      <td>135</td>\n",
       "      <td>56aec740f1ef260003e307d6</td>\n",
       "      <td>58cfefeee010990004e37f60</td>\n",
       "      <td>***************************</td>\n",
       "      <td>1.0</td>\n",
       "      <td>1.0</td>\n",
       "      <td>2017-03-20 16:06:08</td>\n",
       "    </tr>\n",
       "    <tr>\n",
       "      <th>4</th>\n",
       "      <td>225</td>\n",
       "      <td>56aec740f1ef260003e307d6</td>\n",
       "      <td>58cfd9b4e010990004e37f52</td>\n",
       "      <td>*********************************</td>\n",
       "      <td>3.0</td>\n",
       "      <td>2.0</td>\n",
       "      <td>2017-03-20 14:30:50</td>\n",
       "    </tr>\n",
       "  </tbody>\n",
       "</table>\n",
       "</div>"
      ],
      "text/plain": [
       "   employee              companyAlias                 commentId  \\\n",
       "0       307  56aec740f1ef260003e307d6  58d018d7e010990004e38070   \n",
       "1       382  56aec740f1ef260003e307d6  58d0179ae010990004e3806d   \n",
       "2       172  56aec740f1ef260003e307d6  58cff8cde010990004e37f6a   \n",
       "3       135  56aec740f1ef260003e307d6  58cfefeee010990004e37f60   \n",
       "4       225  56aec740f1ef260003e307d6  58cfd9b4e010990004e37f52   \n",
       "\n",
       "                                                 txt  likes  dislikes  \\\n",
       "0  **********************************************...    4.0       0.0   \n",
       "1                      *****************************    1.0       2.0   \n",
       "2                        ***************************    3.0       0.0   \n",
       "3                        ***************************    1.0       1.0   \n",
       "4                  *********************************    3.0       2.0   \n",
       "\n",
       "          commentDate  \n",
       "0 2017-03-20 19:00:17  \n",
       "1 2017-03-20 18:55:16  \n",
       "2 2017-03-20 16:44:02  \n",
       "3 2017-03-20 16:06:08  \n",
       "4 2017-03-20 14:30:50  "
      ]
     },
     "execution_count": 17,
     "metadata": {},
     "output_type": "execute_result"
    }
   ],
   "source": [
    "df_csv1.head()"
   ]
  },
  {
   "cell_type": "code",
   "execution_count": null,
   "metadata": {},
   "outputs": [],
   "source": []
  },
  {
   "cell_type": "code",
   "execution_count": 18,
   "metadata": {},
   "outputs": [
    {
     "ename": "TypeError",
     "evalue": "object of type 'float' has no len()",
     "output_type": "error",
     "traceback": [
      "\u001b[0;31m---------------------------------------------------------------------------\u001b[0m",
      "\u001b[0;31mTypeError\u001b[0m                                 Traceback (most recent call last)",
      "\u001b[0;32m<ipython-input-18-f8939a03190a>\u001b[0m in \u001b[0;36m<module>\u001b[0;34m\u001b[0m\n\u001b[0;32m----> 1\u001b[0;31m \u001b[0mdf_csv1\u001b[0m\u001b[0;34m[\u001b[0m\u001b[0;34m'len_txt'\u001b[0m\u001b[0;34m]\u001b[0m \u001b[0;34m=\u001b[0m \u001b[0mdf_csv1\u001b[0m\u001b[0;34m[\u001b[0m\u001b[0;34m'txt'\u001b[0m\u001b[0;34m]\u001b[0m\u001b[0;34m.\u001b[0m\u001b[0mapply\u001b[0m\u001b[0;34m(\u001b[0m\u001b[0;32mlambda\u001b[0m \u001b[0mx\u001b[0m \u001b[0;34m:\u001b[0m \u001b[0mlen\u001b[0m\u001b[0;34m(\u001b[0m\u001b[0mx\u001b[0m\u001b[0;34m)\u001b[0m\u001b[0;34m)\u001b[0m\u001b[0;34m\u001b[0m\u001b[0;34m\u001b[0m\u001b[0m\n\u001b[0m",
      "\u001b[0;32m~/anaconda/envs/py36/lib/python3.6/site-packages/pandas/core/series.py\u001b[0m in \u001b[0;36mapply\u001b[0;34m(self, func, convert_dtype, args, **kwds)\u001b[0m\n\u001b[1;32m   3589\u001b[0m             \u001b[0;32melse\u001b[0m\u001b[0;34m:\u001b[0m\u001b[0;34m\u001b[0m\u001b[0;34m\u001b[0m\u001b[0m\n\u001b[1;32m   3590\u001b[0m                 \u001b[0mvalues\u001b[0m \u001b[0;34m=\u001b[0m \u001b[0mself\u001b[0m\u001b[0;34m.\u001b[0m\u001b[0mastype\u001b[0m\u001b[0;34m(\u001b[0m\u001b[0mobject\u001b[0m\u001b[0;34m)\u001b[0m\u001b[0;34m.\u001b[0m\u001b[0mvalues\u001b[0m\u001b[0;34m\u001b[0m\u001b[0;34m\u001b[0m\u001b[0m\n\u001b[0;32m-> 3591\u001b[0;31m                 \u001b[0mmapped\u001b[0m \u001b[0;34m=\u001b[0m \u001b[0mlib\u001b[0m\u001b[0;34m.\u001b[0m\u001b[0mmap_infer\u001b[0m\u001b[0;34m(\u001b[0m\u001b[0mvalues\u001b[0m\u001b[0;34m,\u001b[0m \u001b[0mf\u001b[0m\u001b[0;34m,\u001b[0m \u001b[0mconvert\u001b[0m\u001b[0;34m=\u001b[0m\u001b[0mconvert_dtype\u001b[0m\u001b[0;34m)\u001b[0m\u001b[0;34m\u001b[0m\u001b[0;34m\u001b[0m\u001b[0m\n\u001b[0m\u001b[1;32m   3592\u001b[0m \u001b[0;34m\u001b[0m\u001b[0m\n\u001b[1;32m   3593\u001b[0m         \u001b[0;32mif\u001b[0m \u001b[0mlen\u001b[0m\u001b[0;34m(\u001b[0m\u001b[0mmapped\u001b[0m\u001b[0;34m)\u001b[0m \u001b[0;32mand\u001b[0m \u001b[0misinstance\u001b[0m\u001b[0;34m(\u001b[0m\u001b[0mmapped\u001b[0m\u001b[0;34m[\u001b[0m\u001b[0;36m0\u001b[0m\u001b[0;34m]\u001b[0m\u001b[0;34m,\u001b[0m \u001b[0mSeries\u001b[0m\u001b[0;34m)\u001b[0m\u001b[0;34m:\u001b[0m\u001b[0;34m\u001b[0m\u001b[0;34m\u001b[0m\u001b[0m\n",
      "\u001b[0;32mpandas/_libs/lib.pyx\u001b[0m in \u001b[0;36mpandas._libs.lib.map_infer\u001b[0;34m()\u001b[0m\n",
      "\u001b[0;32m<ipython-input-18-f8939a03190a>\u001b[0m in \u001b[0;36m<lambda>\u001b[0;34m(x)\u001b[0m\n\u001b[0;32m----> 1\u001b[0;31m \u001b[0mdf_csv1\u001b[0m\u001b[0;34m[\u001b[0m\u001b[0;34m'len_txt'\u001b[0m\u001b[0;34m]\u001b[0m \u001b[0;34m=\u001b[0m \u001b[0mdf_csv1\u001b[0m\u001b[0;34m[\u001b[0m\u001b[0;34m'txt'\u001b[0m\u001b[0;34m]\u001b[0m\u001b[0;34m.\u001b[0m\u001b[0mapply\u001b[0m\u001b[0;34m(\u001b[0m\u001b[0;32mlambda\u001b[0m \u001b[0mx\u001b[0m \u001b[0;34m:\u001b[0m \u001b[0mlen\u001b[0m\u001b[0;34m(\u001b[0m\u001b[0mx\u001b[0m\u001b[0;34m)\u001b[0m\u001b[0;34m)\u001b[0m\u001b[0;34m\u001b[0m\u001b[0;34m\u001b[0m\u001b[0m\n\u001b[0m",
      "\u001b[0;31mTypeError\u001b[0m: object of type 'float' has no len()"
     ]
    }
   ],
   "source": [
    "df_csv1['len_txt'] = df_csv1['txt'].apply(lambda x : len(x))"
   ]
  },
  {
   "cell_type": "code",
   "execution_count": 19,
   "metadata": {},
   "outputs": [
    {
     "data": {
      "text/plain": [
       "217"
      ]
     },
     "execution_count": 19,
     "metadata": {},
     "output_type": "execute_result"
    }
   ],
   "source": [
    "df_csv1['txt'].isnull().sum()"
   ]
  },
  {
   "cell_type": "code",
   "execution_count": null,
   "metadata": {},
   "outputs": [],
   "source": []
  },
  {
   "cell_type": "code",
   "execution_count": 20,
   "metadata": {},
   "outputs": [],
   "source": [
    "df_csv1['txt'] = df_csv1['txt'].fillna('')"
   ]
  },
  {
   "cell_type": "code",
   "execution_count": 21,
   "metadata": {},
   "outputs": [],
   "source": [
    "df_csv1['len_txt'] = df_csv1['txt'].apply(lambda x : len(x))"
   ]
  },
  {
   "cell_type": "code",
   "execution_count": 26,
   "metadata": {},
   "outputs": [
    {
     "data": {
      "text/plain": [
       "29057"
      ]
     },
     "execution_count": 26,
     "metadata": {},
     "output_type": "execute_result"
    }
   ],
   "source": [
    "df_csv1['len_txt'].max()"
   ]
  },
  {
   "cell_type": "code",
   "execution_count": 27,
   "metadata": {},
   "outputs": [
    {
     "data": {
      "text/html": [
       "<div>\n",
       "<style scoped>\n",
       "    .dataframe tbody tr th:only-of-type {\n",
       "        vertical-align: middle;\n",
       "    }\n",
       "\n",
       "    .dataframe tbody tr th {\n",
       "        vertical-align: top;\n",
       "    }\n",
       "\n",
       "    .dataframe thead th {\n",
       "        text-align: right;\n",
       "    }\n",
       "</style>\n",
       "<table border=\"1\" class=\"dataframe\">\n",
       "  <thead>\n",
       "    <tr style=\"text-align: right;\">\n",
       "      <th></th>\n",
       "      <th>employee</th>\n",
       "      <th>companyAlias</th>\n",
       "      <th>commentId</th>\n",
       "      <th>txt</th>\n",
       "      <th>likes</th>\n",
       "      <th>dislikes</th>\n",
       "      <th>commentDate</th>\n",
       "      <th>len_txt</th>\n",
       "    </tr>\n",
       "  </thead>\n",
       "  <tbody>\n",
       "    <tr>\n",
       "      <th>14270</th>\n",
       "      <td>38</td>\n",
       "      <td>57bb2f0b3bae540003a8d453</td>\n",
       "      <td>5851aec3c8a2da000497c306</td>\n",
       "      <td>**********************************************...</td>\n",
       "      <td>2.0</td>\n",
       "      <td>7.0</td>\n",
       "      <td>2016-12-14 21:36:38</td>\n",
       "      <td>29057</td>\n",
       "    </tr>\n",
       "    <tr>\n",
       "      <th>15705</th>\n",
       "      <td>38</td>\n",
       "      <td>57bb2f0b3bae540003a8d453</td>\n",
       "      <td>5851aec3c8a2da000497c306</td>\n",
       "      <td>**********************************************...</td>\n",
       "      <td>2.0</td>\n",
       "      <td>7.0</td>\n",
       "      <td>2016-12-14 21:36:38</td>\n",
       "      <td>29057</td>\n",
       "    </tr>\n",
       "  </tbody>\n",
       "</table>\n",
       "</div>"
      ],
      "text/plain": [
       "       employee              companyAlias                 commentId  \\\n",
       "14270        38  57bb2f0b3bae540003a8d453  5851aec3c8a2da000497c306   \n",
       "15705        38  57bb2f0b3bae540003a8d453  5851aec3c8a2da000497c306   \n",
       "\n",
       "                                                     txt  likes  dislikes  \\\n",
       "14270  **********************************************...    2.0       7.0   \n",
       "15705  **********************************************...    2.0       7.0   \n",
       "\n",
       "              commentDate  len_txt  \n",
       "14270 2016-12-14 21:36:38    29057  \n",
       "15705 2016-12-14 21:36:38    29057  "
      ]
     },
     "execution_count": 27,
     "metadata": {},
     "output_type": "execute_result"
    }
   ],
   "source": [
    "df_csv1[df_csv1['len_txt']==29057]"
   ]
  },
  {
   "cell_type": "code",
   "execution_count": 25,
   "metadata": {},
   "outputs": [
    {
     "data": {
      "text/plain": [
       "employee  companyAlias            \n",
       " 38       57bb2f0b3bae540003a8d453    29057\n",
       " 110      54e52607e4b01191dc064966     3748\n",
       " 47       5370af43e4b0cff95558c12a     3131\n",
       " 349      574c5ade56b6300003009965     2729\n",
       " 13       5641f96713664c000332c8cd     2264\n",
       " 49       5742d699f839a10003a407d2     2255\n",
       " 67       57d956302a040a00036a8905     2226\n",
       " 270      54e52607e4b01191dc064966     2051\n",
       " 475      58a728a0e75bda00042a3468     2046\n",
       " 11       5742d699f839a10003a407d2     2025\n",
       " 43       57bb2f0b3bae540003a8d453     1983\n",
       " 55       5370af43e4b0cff95558c12a     1952\n",
       " 12       5742d699f839a10003a407d2     1795\n",
       " 139      58a728a0e75bda00042a3468     1781\n",
       " 481      54e52607e4b01191dc064966     1777\n",
       "-116      54e52607e4b01191dc064966     1777\n",
       " 340      574c5ade56b6300003009965     1755\n",
       " 31       57bb2f0b3bae540003a8d453     1707\n",
       "-147      54e52607e4b01191dc064966     1634\n",
       " 151      5742d699f839a10003a407d2     1614\n",
       " 768      54e52607e4b01191dc064966     1539\n",
       "-5        54e52607e4b01191dc064966     1517\n",
       " 100      5641f96713664c000332c8cd     1502\n",
       " 17       57c4aa7dbb8b5c000396fd3b     1500\n",
       " 209      54e52607e4b01191dc064966     1490\n",
       " 166      5641f96713664c000332c8cd     1476\n",
       " 173      5742d699f839a10003a407d2     1472\n",
       " 117      574c5ade56b6300003009965     1465\n",
       " 83       5742d699f839a10003a407d2     1450\n",
       " 176      57dd2d6a4018d9000339ca43     1422\n",
       "                                      ...  \n",
       " 51       567011c035dce00003a07fa4        3\n",
       " 36       56aec740f1ef260003e307d6        3\n",
       "-2        57908a2622881200033b34d7        3\n",
       " 16       56ae7b02f1ef260003e3072c        3\n",
       " 179      57d956302a040a00036a8905        3\n",
       " 59       57908a2622881200033b34d7        3\n",
       " 43       56ab28dc1f385d0003454757        2\n",
       " 433      54e52607e4b01191dc064966        2\n",
       " 564      54e52607e4b01191dc064966        2\n",
       " 132      581b08041a0ef8000308aef6        2\n",
       " 177      57dd2d6a4018d9000339ca43        2\n",
       " 127      581b08041a0ef8000308aef6        2\n",
       " 51       56ab28dc1f385d0003454757        2\n",
       " 79       581b08041a0ef8000308aef6        2\n",
       " 141      57ac8b23be7fe30003e656d0        2\n",
       " 189      567011c035dce00003a07fa4        2\n",
       " 94       574c423856b6300003009953        1\n",
       " 68       56aec740f1ef260003e307d6        1\n",
       "-112      5370af43e4b0cff95558c12a        1\n",
       " 266      5641f96713664c000332c8cd        1\n",
       " 63       56ab28dc1f385d0003454757        1\n",
       " 215      567011c035dce00003a07fa4        1\n",
       " 60       56ab28dc1f385d0003454757        1\n",
       " 50       58a728a0e75bda00042a3468        1\n",
       " 29       54e52607e4b01191dc064966        1\n",
       " 46       56ab28dc1f385d0003454757        1\n",
       " 19       57ac8b23be7fe30003e656d0        1\n",
       " 51       5370af43e4b0cff95558c12a        1\n",
       " 26       56aec740f1ef260003e307d6        1\n",
       " 129      54e52607e4b01191dc064966        1\n",
       "Name: len_txt, Length: 3219, dtype: int64"
      ]
     },
     "execution_count": 25,
     "metadata": {},
     "output_type": "execute_result"
    }
   ],
   "source": [
    "df_csv1.groupby(['employee','companyAlias'])['len_txt'].max().sort_values(ascending =False)"
   ]
  },
  {
   "cell_type": "code",
   "execution_count": null,
   "metadata": {},
   "outputs": [],
   "source": []
  },
  {
   "cell_type": "code",
   "execution_count": null,
   "metadata": {},
   "outputs": [],
   "source": []
  },
  {
   "cell_type": "markdown",
   "metadata": {},
   "source": [
    " 3. on what week the users has the lowest average votes?"
   ]
  },
  {
   "cell_type": "code",
   "execution_count": 28,
   "metadata": {},
   "outputs": [],
   "source": [
    "df_votes = pd.read_csv(PATH_DATA2+'votes.csv', parse_dates = ['voteDate'])"
   ]
  },
  {
   "cell_type": "code",
   "execution_count": null,
   "metadata": {},
   "outputs": [],
   "source": [
    "# pd.to_datetime(...)"
   ]
  },
  {
   "cell_type": "code",
   "execution_count": 31,
   "metadata": {},
   "outputs": [
    {
     "data": {
      "text/plain": [
       "(221232, 4)"
      ]
     },
     "execution_count": 31,
     "metadata": {},
     "output_type": "execute_result"
    }
   ],
   "source": [
    "df_votes.shape"
   ]
  },
  {
   "cell_type": "code",
   "execution_count": 32,
   "metadata": {},
   "outputs": [
    {
     "data": {
      "text/html": [
       "<div>\n",
       "<style scoped>\n",
       "    .dataframe tbody tr th:only-of-type {\n",
       "        vertical-align: middle;\n",
       "    }\n",
       "\n",
       "    .dataframe tbody tr th {\n",
       "        vertical-align: top;\n",
       "    }\n",
       "\n",
       "    .dataframe thead th {\n",
       "        text-align: right;\n",
       "    }\n",
       "</style>\n",
       "<table border=\"1\" class=\"dataframe\">\n",
       "  <thead>\n",
       "    <tr style=\"text-align: right;\">\n",
       "      <th></th>\n",
       "      <th>employee</th>\n",
       "      <th>companyAlias</th>\n",
       "      <th>voteDate</th>\n",
       "      <th>vote</th>\n",
       "    </tr>\n",
       "  </thead>\n",
       "  <tbody>\n",
       "    <tr>\n",
       "      <th>0</th>\n",
       "      <td>31</td>\n",
       "      <td>56aec740f1ef260003e307d6</td>\n",
       "      <td>2016-02-01 01:00:00</td>\n",
       "      <td>4</td>\n",
       "    </tr>\n",
       "    <tr>\n",
       "      <th>1</th>\n",
       "      <td>33</td>\n",
       "      <td>56aec740f1ef260003e307d6</td>\n",
       "      <td>2016-02-01 01:00:00</td>\n",
       "      <td>4</td>\n",
       "    </tr>\n",
       "    <tr>\n",
       "      <th>2</th>\n",
       "      <td>79</td>\n",
       "      <td>56aec740f1ef260003e307d6</td>\n",
       "      <td>2016-02-01 01:00:00</td>\n",
       "      <td>4</td>\n",
       "    </tr>\n",
       "    <tr>\n",
       "      <th>3</th>\n",
       "      <td>94</td>\n",
       "      <td>56aec740f1ef260003e307d6</td>\n",
       "      <td>2016-02-01 01:00:00</td>\n",
       "      <td>4</td>\n",
       "    </tr>\n",
       "    <tr>\n",
       "      <th>4</th>\n",
       "      <td>16</td>\n",
       "      <td>56aec740f1ef260003e307d6</td>\n",
       "      <td>2016-02-01 01:00:00</td>\n",
       "      <td>2</td>\n",
       "    </tr>\n",
       "  </tbody>\n",
       "</table>\n",
       "</div>"
      ],
      "text/plain": [
       "   employee              companyAlias            voteDate  vote\n",
       "0        31  56aec740f1ef260003e307d6 2016-02-01 01:00:00     4\n",
       "1        33  56aec740f1ef260003e307d6 2016-02-01 01:00:00     4\n",
       "2        79  56aec740f1ef260003e307d6 2016-02-01 01:00:00     4\n",
       "3        94  56aec740f1ef260003e307d6 2016-02-01 01:00:00     4\n",
       "4        16  56aec740f1ef260003e307d6 2016-02-01 01:00:00     2"
      ]
     },
     "execution_count": 32,
     "metadata": {},
     "output_type": "execute_result"
    }
   ],
   "source": [
    "df_votes.head()"
   ]
  },
  {
   "cell_type": "code",
   "execution_count": 40,
   "metadata": {},
   "outputs": [],
   "source": [
    "df_votes['weeks'] = df_votes['voteDate'].dt.strftime('%Y-%W')"
   ]
  },
  {
   "cell_type": "code",
   "execution_count": 41,
   "metadata": {},
   "outputs": [
    {
     "data": {
      "text/html": [
       "<div>\n",
       "<style scoped>\n",
       "    .dataframe tbody tr th:only-of-type {\n",
       "        vertical-align: middle;\n",
       "    }\n",
       "\n",
       "    .dataframe tbody tr th {\n",
       "        vertical-align: top;\n",
       "    }\n",
       "\n",
       "    .dataframe thead th {\n",
       "        text-align: right;\n",
       "    }\n",
       "</style>\n",
       "<table border=\"1\" class=\"dataframe\">\n",
       "  <thead>\n",
       "    <tr style=\"text-align: right;\">\n",
       "      <th></th>\n",
       "      <th>employee</th>\n",
       "      <th>companyAlias</th>\n",
       "      <th>voteDate</th>\n",
       "      <th>vote</th>\n",
       "      <th>weeks</th>\n",
       "    </tr>\n",
       "  </thead>\n",
       "  <tbody>\n",
       "    <tr>\n",
       "      <th>117473</th>\n",
       "      <td>29</td>\n",
       "      <td>57dd2d6a4018d9000339ca43</td>\n",
       "      <td>2017-02-25 01:00:00</td>\n",
       "      <td>4</td>\n",
       "      <td>2017-08</td>\n",
       "    </tr>\n",
       "    <tr>\n",
       "      <th>47880</th>\n",
       "      <td>150</td>\n",
       "      <td>581b08041a0ef8000308aef6</td>\n",
       "      <td>2017-01-21 01:00:00</td>\n",
       "      <td>3</td>\n",
       "      <td>2017-03</td>\n",
       "    </tr>\n",
       "    <tr>\n",
       "      <th>125524</th>\n",
       "      <td>189</td>\n",
       "      <td>5641f96713664c000332c8cd</td>\n",
       "      <td>2016-08-23 02:00:00</td>\n",
       "      <td>3</td>\n",
       "      <td>2016-34</td>\n",
       "    </tr>\n",
       "    <tr>\n",
       "      <th>66903</th>\n",
       "      <td>481</td>\n",
       "      <td>54e52607e4b01191dc064966</td>\n",
       "      <td>2015-08-26 02:00:00</td>\n",
       "      <td>1</td>\n",
       "      <td>2015-34</td>\n",
       "    </tr>\n",
       "    <tr>\n",
       "      <th>293</th>\n",
       "      <td>32</td>\n",
       "      <td>56aec740f1ef260003e307d6</td>\n",
       "      <td>2016-02-15 01:00:00</td>\n",
       "      <td>4</td>\n",
       "      <td>2016-07</td>\n",
       "    </tr>\n",
       "    <tr>\n",
       "      <th>118724</th>\n",
       "      <td>112</td>\n",
       "      <td>57dd2d6a4018d9000339ca43</td>\n",
       "      <td>2017-03-18 01:00:00</td>\n",
       "      <td>1</td>\n",
       "      <td>2017-11</td>\n",
       "    </tr>\n",
       "    <tr>\n",
       "      <th>210987</th>\n",
       "      <td>173</td>\n",
       "      <td>57d956302a040a00036a8905</td>\n",
       "      <td>2016-10-07 02:00:00</td>\n",
       "      <td>3</td>\n",
       "      <td>2016-40</td>\n",
       "    </tr>\n",
       "    <tr>\n",
       "      <th>115262</th>\n",
       "      <td>166</td>\n",
       "      <td>57dd2d6a4018d9000339ca43</td>\n",
       "      <td>2017-01-14 01:00:00</td>\n",
       "      <td>3</td>\n",
       "      <td>2017-02</td>\n",
       "    </tr>\n",
       "    <tr>\n",
       "      <th>202657</th>\n",
       "      <td>17</td>\n",
       "      <td>5742d699f839a10003a407d2</td>\n",
       "      <td>2016-12-10 01:00:00</td>\n",
       "      <td>3</td>\n",
       "      <td>2016-49</td>\n",
       "    </tr>\n",
       "    <tr>\n",
       "      <th>108827</th>\n",
       "      <td>148</td>\n",
       "      <td>57dd2d6a4018d9000339ca43</td>\n",
       "      <td>2016-10-08 02:00:00</td>\n",
       "      <td>4</td>\n",
       "      <td>2016-40</td>\n",
       "    </tr>\n",
       "  </tbody>\n",
       "</table>\n",
       "</div>"
      ],
      "text/plain": [
       "        employee              companyAlias            voteDate  vote    weeks\n",
       "117473        29  57dd2d6a4018d9000339ca43 2017-02-25 01:00:00     4  2017-08\n",
       "47880        150  581b08041a0ef8000308aef6 2017-01-21 01:00:00     3  2017-03\n",
       "125524       189  5641f96713664c000332c8cd 2016-08-23 02:00:00     3  2016-34\n",
       "66903        481  54e52607e4b01191dc064966 2015-08-26 02:00:00     1  2015-34\n",
       "293           32  56aec740f1ef260003e307d6 2016-02-15 01:00:00     4  2016-07\n",
       "118724       112  57dd2d6a4018d9000339ca43 2017-03-18 01:00:00     1  2017-11\n",
       "210987       173  57d956302a040a00036a8905 2016-10-07 02:00:00     3  2016-40\n",
       "115262       166  57dd2d6a4018d9000339ca43 2017-01-14 01:00:00     3  2017-02\n",
       "202657        17  5742d699f839a10003a407d2 2016-12-10 01:00:00     3  2016-49\n",
       "108827       148  57dd2d6a4018d9000339ca43 2016-10-08 02:00:00     4  2016-40"
      ]
     },
     "execution_count": 41,
     "metadata": {},
     "output_type": "execute_result"
    }
   ],
   "source": [
    "df_votes.sample(10)"
   ]
  },
  {
   "cell_type": "code",
   "execution_count": 42,
   "metadata": {},
   "outputs": [
    {
     "data": {
      "text/plain": [
       "weeks\n",
       "2015-20    2.308924\n",
       "2015-19    2.374582\n",
       "2015-21    2.397119\n",
       "2015-39    2.423423\n",
       "2014-22    2.428571\n",
       "2015-38    2.440972\n",
       "2015-40    2.468560\n",
       "2015-17    2.492754\n",
       "2015-16    2.513595\n",
       "2015-14    2.527132\n",
       "2015-18    2.537459\n",
       "2015-15    2.538182\n",
       "2015-37    2.559387\n",
       "2015-12    2.566929\n",
       "2015-22    2.569106\n",
       "2015-43    2.570265\n",
       "2015-41    2.574661\n",
       "2015-45    2.594758\n",
       "2015-23    2.596529\n",
       "2015-44    2.596838\n",
       "2016-04    2.609053\n",
       "2015-34    2.613187\n",
       "2015-42    2.616570\n",
       "2015-25    2.618812\n",
       "2015-24    2.619855\n",
       "2015-36    2.621505\n",
       "2015-30    2.628571\n",
       "2015-47    2.638037\n",
       "2015-09    2.662722\n",
       "2015-08    2.667692\n",
       "             ...   \n",
       "2016-40    2.926372\n",
       "2015-52    2.927711\n",
       "2015-07    2.928571\n",
       "2016-29    2.928571\n",
       "2016-30    2.935463\n",
       "2016-43    2.942437\n",
       "2016-52    2.942512\n",
       "2016-48    2.943784\n",
       "2016-20    2.944681\n",
       "2016-19    2.948330\n",
       "2016-41    2.953959\n",
       "2016-46    2.956112\n",
       "2016-49    2.956761\n",
       "2016-45    2.962018\n",
       "2016-47    2.968407\n",
       "2016-21    2.970520\n",
       "2016-22    2.973294\n",
       "2016-44    2.978002\n",
       "2016-51    2.983931\n",
       "2016-12    3.005092\n",
       "2017-00    3.024259\n",
       "2016-00    3.057471\n",
       "2015-05    3.272727\n",
       "2014-50    3.400000\n",
       "2014-47    3.450000\n",
       "2014-51    4.000000\n",
       "2015-00    4.000000\n",
       "2015-02    4.000000\n",
       "2015-03    4.000000\n",
       "2014-48    4.000000\n",
       "Name: vote, Length: 123, dtype: float64"
      ]
     },
     "execution_count": 42,
     "metadata": {},
     "output_type": "execute_result"
    }
   ],
   "source": [
    "df_votes.groupby(['weeks'])['vote'].mean().sort_values()"
   ]
  },
  {
   "cell_type": "code",
   "execution_count": null,
   "metadata": {},
   "outputs": [],
   "source": []
  },
  {
   "cell_type": "code",
   "execution_count": null,
   "metadata": {},
   "outputs": [],
   "source": []
  },
  {
   "cell_type": "markdown",
   "metadata": {},
   "source": [
    "4. companies with churn rate more than 0.3?"
   ]
  },
  {
   "cell_type": "code",
   "execution_count": 43,
   "metadata": {},
   "outputs": [],
   "source": [
    "df_churn = pd.read_csv(PATH_DATA2+'churn.csv', parse_dates = ['lastParticipationDate'])"
   ]
  },
  {
   "cell_type": "code",
   "execution_count": 44,
   "metadata": {},
   "outputs": [],
   "source": [
    "company_churn = df_churn.groupby(['companyAlias'])['stillExists'].mean()\n",
    "company_churn = 1-company_churn"
   ]
  },
  {
   "cell_type": "code",
   "execution_count": 49,
   "metadata": {},
   "outputs": [
    {
     "data": {
      "text/plain": [
       "companyAlias\n",
       "5370af43e4b0cff95558c12a    0.848214\n",
       "54e52607e4b01191dc064966    0.623574\n",
       "54d43612e4b0f6a40755d93e    0.363636\n",
       "57908a2622881200033b34d7    0.274510\n",
       "58a728a0e75bda00042a3468    0.266821\n",
       "574c423856b6300003009953    0.228758\n",
       "57dd2d6a4018d9000339ca43    0.176471\n",
       "5641f96713664c000332c8cd    0.174107\n",
       "56fd2b64f41c670003f643c8    0.146667\n",
       "552e2d00e4b066b42fd122ed    0.137931\n",
       "53a2dd43e4b01cc02f1e9011    0.120000\n",
       "57d1eb86a22c9d0003dd1f05    0.100000\n",
       "567011c035dce00003a07fa4    0.088757\n",
       "56aec740f1ef260003e307d6    0.087079\n",
       "5742d699f839a10003a407d2    0.081633\n",
       "581b08041a0ef8000308aef6    0.063380\n",
       "56ab28dc1f385d0003454757    0.058824\n",
       "57ac8b23be7fe30003e656d0    0.056604\n",
       "57bb2f0b3bae540003a8d453    0.050725\n",
       "57c4aa7dbb8b5c000396fd3b    0.041667\n",
       "574c5ade56b6300003009965    0.027304\n",
       "573f2c4a3517490003ef7710    0.014925\n",
       "573a0671b5ec330003add34a    0.000000\n",
       "58bf03e5cff4fa0004dd44ef    0.000000\n",
       "56e2a905e3b6fe0003e32855    0.000000\n",
       "57d956302a040a00036a8905    0.000000\n",
       "56ae7b02f1ef260003e3072c    0.000000\n",
       "57d979b72a040a00036a8925    0.000000\n",
       "57e518026d641600035db88a    0.000000\n",
       "56558cfd07a5de00030908fb    0.000000\n",
       "57fcf18712cdbd000396e310    0.000000\n",
       "5809cc9eff2ea40003fda44d    0.000000\n",
       "5809cde3ff2ea40003fda452    0.000000\n",
       "58b471b384db3200044dd1b9    0.000000\n",
       "5474b9cde4b0bf7614b2c66f    0.000000\n",
       "58b9adfce75bf80004df6536    0.000000\n",
       "58c6e15f32f72a00046f556c    0.000000\n",
       "Name: stillExists, dtype: float64"
      ]
     },
     "execution_count": 49,
     "metadata": {},
     "output_type": "execute_result"
    }
   ],
   "source": [
    "company_churn.sort_values(ascending = False)"
   ]
  },
  {
   "cell_type": "code",
   "execution_count": 47,
   "metadata": {},
   "outputs": [
    {
     "data": {
      "text/plain": [
       "companyAlias\n",
       "5370af43e4b0cff95558c12a    0.848214\n",
       "54d43612e4b0f6a40755d93e    0.363636\n",
       "54e52607e4b01191dc064966    0.623574\n",
       "Name: stillExists, dtype: float64"
      ]
     },
     "execution_count": 47,
     "metadata": {},
     "output_type": "execute_result"
    }
   ],
   "source": [
    "company_churn[company_churn>0.3]"
   ]
  },
  {
   "cell_type": "code",
   "execution_count": null,
   "metadata": {},
   "outputs": [],
   "source": []
  },
  {
   "cell_type": "code",
   "execution_count": null,
   "metadata": {},
   "outputs": [],
   "source": []
  }
 ],
 "metadata": {
  "kernelspec": {
   "display_name": "Python 3",
   "language": "python",
   "name": "python3"
  },
  "language_info": {
   "codemirror_mode": {
    "name": "ipython",
    "version": 3
   },
   "file_extension": ".py",
   "mimetype": "text/x-python",
   "name": "python",
   "nbconvert_exporter": "python",
   "pygments_lexer": "ipython3",
   "version": "3.6.7"
  }
 },
 "nbformat": 4,
 "nbformat_minor": 4
}
