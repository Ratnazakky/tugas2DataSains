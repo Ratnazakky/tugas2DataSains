{
 "cells": [
  {
   "cell_type": "markdown",
   "metadata": {},
   "source": [
    "Assigment 3 :\n",
    "\n",
    "    1. which company that has the lowest interaction on Wednesday ?\n",
    "    2. daily average of rating if the null is removed"
   ]
  },
  {
   "cell_type": "code",
   "execution_count": 1,
   "metadata": {},
   "outputs": [],
   "source": [
    "import pandas as pd\n",
    "import numpy as np\n",
    "import random"
   ]
  },
  {
   "cell_type": "code",
   "execution_count": 2,
   "metadata": {},
   "outputs": [],
   "source": [
    "PATH_DATA = '../mydata/'\n",
    "PATH_DATA2 = '../mydata/employee_data/'"
   ]
  },
  {
   "cell_type": "code",
   "execution_count": null,
   "metadata": {},
   "outputs": [],
   "source": []
  },
  {
   "cell_type": "markdown",
   "metadata": {},
   "source": [
    "1. which company that has the lowest votes activity on Wednesday ?"
   ]
  },
  {
   "cell_type": "code",
   "execution_count": 3,
   "metadata": {},
   "outputs": [
    {
     "name": "stderr",
     "output_type": "stream",
     "text": [
      "/Users/alamhanz/anaconda/envs/p37/lib/python3.7/site-packages/dateutil/parser/_parser.py:1218: UnknownTimezoneWarning: tzname CET identified but not understood.  Pass `tzinfos` argument in order to correctly return a timezone-aware datetime.  In a future version, this will raise an exception.\n",
      "  category=UnknownTimezoneWarning)\n",
      "/Users/alamhanz/anaconda/envs/p37/lib/python3.7/site-packages/dateutil/parser/_parser.py:1218: UnknownTimezoneWarning: tzname CEST identified but not understood.  Pass `tzinfos` argument in order to correctly return a timezone-aware datetime.  In a future version, this will raise an exception.\n",
      "  category=UnknownTimezoneWarning)\n"
     ]
    }
   ],
   "source": [
    "df_votes = pd.read_csv(PATH_DATA2+'votes.csv', parse_dates = ['voteDate'])"
   ]
  },
  {
   "cell_type": "code",
   "execution_count": 4,
   "metadata": {},
   "outputs": [
    {
     "data": {
      "text/html": [
       "<div>\n",
       "<style scoped>\n",
       "    .dataframe tbody tr th:only-of-type {\n",
       "        vertical-align: middle;\n",
       "    }\n",
       "\n",
       "    .dataframe tbody tr th {\n",
       "        vertical-align: top;\n",
       "    }\n",
       "\n",
       "    .dataframe thead th {\n",
       "        text-align: right;\n",
       "    }\n",
       "</style>\n",
       "<table border=\"1\" class=\"dataframe\">\n",
       "  <thead>\n",
       "    <tr style=\"text-align: right;\">\n",
       "      <th></th>\n",
       "      <th>employee</th>\n",
       "      <th>companyAlias</th>\n",
       "      <th>voteDate</th>\n",
       "      <th>vote</th>\n",
       "    </tr>\n",
       "  </thead>\n",
       "  <tbody>\n",
       "    <tr>\n",
       "      <th>0</th>\n",
       "      <td>31</td>\n",
       "      <td>56aec740f1ef260003e307d6</td>\n",
       "      <td>2016-02-01 01:00:00</td>\n",
       "      <td>4</td>\n",
       "    </tr>\n",
       "    <tr>\n",
       "      <th>1</th>\n",
       "      <td>33</td>\n",
       "      <td>56aec740f1ef260003e307d6</td>\n",
       "      <td>2016-02-01 01:00:00</td>\n",
       "      <td>4</td>\n",
       "    </tr>\n",
       "    <tr>\n",
       "      <th>2</th>\n",
       "      <td>79</td>\n",
       "      <td>56aec740f1ef260003e307d6</td>\n",
       "      <td>2016-02-01 01:00:00</td>\n",
       "      <td>4</td>\n",
       "    </tr>\n",
       "    <tr>\n",
       "      <th>3</th>\n",
       "      <td>94</td>\n",
       "      <td>56aec740f1ef260003e307d6</td>\n",
       "      <td>2016-02-01 01:00:00</td>\n",
       "      <td>4</td>\n",
       "    </tr>\n",
       "    <tr>\n",
       "      <th>4</th>\n",
       "      <td>16</td>\n",
       "      <td>56aec740f1ef260003e307d6</td>\n",
       "      <td>2016-02-01 01:00:00</td>\n",
       "      <td>2</td>\n",
       "    </tr>\n",
       "    <tr>\n",
       "      <th>...</th>\n",
       "      <td>...</td>\n",
       "      <td>...</td>\n",
       "      <td>...</td>\n",
       "      <td>...</td>\n",
       "    </tr>\n",
       "    <tr>\n",
       "      <th>221227</th>\n",
       "      <td>17</td>\n",
       "      <td>573a0671b5ec330003add34a</td>\n",
       "      <td>2016-06-03 02:00:00</td>\n",
       "      <td>3</td>\n",
       "    </tr>\n",
       "    <tr>\n",
       "      <th>221228</th>\n",
       "      <td>17</td>\n",
       "      <td>573a0671b5ec330003add34a</td>\n",
       "      <td>2016-06-07 02:00:00</td>\n",
       "      <td>4</td>\n",
       "    </tr>\n",
       "    <tr>\n",
       "      <th>221229</th>\n",
       "      <td>17</td>\n",
       "      <td>573a0671b5ec330003add34a</td>\n",
       "      <td>2016-06-13 02:00:00</td>\n",
       "      <td>4</td>\n",
       "    </tr>\n",
       "    <tr>\n",
       "      <th>221230</th>\n",
       "      <td>17</td>\n",
       "      <td>573a0671b5ec330003add34a</td>\n",
       "      <td>2016-06-28 02:00:00</td>\n",
       "      <td>4</td>\n",
       "    </tr>\n",
       "    <tr>\n",
       "      <th>221231</th>\n",
       "      <td>19</td>\n",
       "      <td>573a0671b5ec330003add34a</td>\n",
       "      <td>2016-07-04 02:00:00</td>\n",
       "      <td>4</td>\n",
       "    </tr>\n",
       "  </tbody>\n",
       "</table>\n",
       "<p>221232 rows × 4 columns</p>\n",
       "</div>"
      ],
      "text/plain": [
       "        employee              companyAlias            voteDate  vote\n",
       "0             31  56aec740f1ef260003e307d6 2016-02-01 01:00:00     4\n",
       "1             33  56aec740f1ef260003e307d6 2016-02-01 01:00:00     4\n",
       "2             79  56aec740f1ef260003e307d6 2016-02-01 01:00:00     4\n",
       "3             94  56aec740f1ef260003e307d6 2016-02-01 01:00:00     4\n",
       "4             16  56aec740f1ef260003e307d6 2016-02-01 01:00:00     2\n",
       "...          ...                       ...                 ...   ...\n",
       "221227        17  573a0671b5ec330003add34a 2016-06-03 02:00:00     3\n",
       "221228        17  573a0671b5ec330003add34a 2016-06-07 02:00:00     4\n",
       "221229        17  573a0671b5ec330003add34a 2016-06-13 02:00:00     4\n",
       "221230        17  573a0671b5ec330003add34a 2016-06-28 02:00:00     4\n",
       "221231        19  573a0671b5ec330003add34a 2016-07-04 02:00:00     4\n",
       "\n",
       "[221232 rows x 4 columns]"
      ]
     },
     "execution_count": 4,
     "metadata": {},
     "output_type": "execute_result"
    }
   ],
   "source": [
    "df_votes"
   ]
  },
  {
   "cell_type": "code",
   "execution_count": 5,
   "metadata": {},
   "outputs": [],
   "source": [
    "df_votes['day'] = df_votes['voteDate'].dt.strftime('%A')"
   ]
  },
  {
   "cell_type": "code",
   "execution_count": 7,
   "metadata": {},
   "outputs": [
    {
     "data": {
      "text/html": [
       "<div>\n",
       "<style scoped>\n",
       "    .dataframe tbody tr th:only-of-type {\n",
       "        vertical-align: middle;\n",
       "    }\n",
       "\n",
       "    .dataframe tbody tr th {\n",
       "        vertical-align: top;\n",
       "    }\n",
       "\n",
       "    .dataframe thead th {\n",
       "        text-align: right;\n",
       "    }\n",
       "</style>\n",
       "<table border=\"1\" class=\"dataframe\">\n",
       "  <thead>\n",
       "    <tr style=\"text-align: right;\">\n",
       "      <th></th>\n",
       "      <th>employee</th>\n",
       "      <th>companyAlias</th>\n",
       "      <th>voteDate</th>\n",
       "      <th>vote</th>\n",
       "      <th>day</th>\n",
       "    </tr>\n",
       "  </thead>\n",
       "  <tbody>\n",
       "    <tr>\n",
       "      <th>0</th>\n",
       "      <td>31</td>\n",
       "      <td>56aec740f1ef260003e307d6</td>\n",
       "      <td>2016-02-01 01:00:00</td>\n",
       "      <td>4</td>\n",
       "      <td>Monday</td>\n",
       "    </tr>\n",
       "    <tr>\n",
       "      <th>1</th>\n",
       "      <td>33</td>\n",
       "      <td>56aec740f1ef260003e307d6</td>\n",
       "      <td>2016-02-01 01:00:00</td>\n",
       "      <td>4</td>\n",
       "      <td>Monday</td>\n",
       "    </tr>\n",
       "    <tr>\n",
       "      <th>2</th>\n",
       "      <td>79</td>\n",
       "      <td>56aec740f1ef260003e307d6</td>\n",
       "      <td>2016-02-01 01:00:00</td>\n",
       "      <td>4</td>\n",
       "      <td>Monday</td>\n",
       "    </tr>\n",
       "    <tr>\n",
       "      <th>3</th>\n",
       "      <td>94</td>\n",
       "      <td>56aec740f1ef260003e307d6</td>\n",
       "      <td>2016-02-01 01:00:00</td>\n",
       "      <td>4</td>\n",
       "      <td>Monday</td>\n",
       "    </tr>\n",
       "    <tr>\n",
       "      <th>4</th>\n",
       "      <td>16</td>\n",
       "      <td>56aec740f1ef260003e307d6</td>\n",
       "      <td>2016-02-01 01:00:00</td>\n",
       "      <td>2</td>\n",
       "      <td>Monday</td>\n",
       "    </tr>\n",
       "  </tbody>\n",
       "</table>\n",
       "</div>"
      ],
      "text/plain": [
       "   employee              companyAlias            voteDate  vote     day\n",
       "0        31  56aec740f1ef260003e307d6 2016-02-01 01:00:00     4  Monday\n",
       "1        33  56aec740f1ef260003e307d6 2016-02-01 01:00:00     4  Monday\n",
       "2        79  56aec740f1ef260003e307d6 2016-02-01 01:00:00     4  Monday\n",
       "3        94  56aec740f1ef260003e307d6 2016-02-01 01:00:00     4  Monday\n",
       "4        16  56aec740f1ef260003e307d6 2016-02-01 01:00:00     2  Monday"
      ]
     },
     "execution_count": 7,
     "metadata": {},
     "output_type": "execute_result"
    }
   ],
   "source": [
    "df_votes.head()"
   ]
  },
  {
   "cell_type": "code",
   "execution_count": null,
   "metadata": {},
   "outputs": [],
   "source": []
  },
  {
   "cell_type": "code",
   "execution_count": 9,
   "metadata": {},
   "outputs": [
    {
     "data": {
      "text/plain": [
       "companyAlias\n",
       "58c6e15f32f72a00046f556c       1\n",
       "58bf03e5cff4fa0004dd44ef       1\n",
       "573a0671b5ec330003add34a       1\n",
       "56ae7b02f1ef260003e3072c       4\n",
       "56558cfd07a5de00030908fb       4\n",
       "57e518026d641600035db88a       8\n",
       "57fcf18712cdbd000396e310       9\n",
       "5474b9cde4b0bf7614b2c66f      10\n",
       "58b471b384db3200044dd1b9      16\n",
       "58b9adfce75bf80004df6536      19\n",
       "56ab28dc1f385d0003454757      24\n",
       "57d979b72a040a00036a8925      38\n",
       "552e2d00e4b066b42fd122ed      74\n",
       "54d43612e4b0f6a40755d93e      99\n",
       "57908a2622881200033b34d7     127\n",
       "573f2c4a3517490003ef7710     150\n",
       "5809cde3ff2ea40003fda452     228\n",
       "5809cc9eff2ea40003fda44d     282\n",
       "57d1eb86a22c9d0003dd1f05     448\n",
       "57c4aa7dbb8b5c000396fd3b     569\n",
       "56fd2b64f41c670003f643c8     636\n",
       "58a728a0e75bda00042a3468     664\n",
       "567011c035dce00003a07fa4     694\n",
       "581b08041a0ef8000308aef6     696\n",
       "53a2dd43e4b01cc02f1e9011     800\n",
       "57d956302a040a00036a8905     862\n",
       "56e2a905e3b6fe0003e32855     954\n",
       "57ac8b23be7fe30003e656d0    1069\n",
       "5370af43e4b0cff95558c12a    1113\n",
       "57bb2f0b3bae540003a8d453    1121\n",
       "574c423856b6300003009953    1186\n",
       "57dd2d6a4018d9000339ca43    1727\n",
       "574c5ade56b6300003009965    2998\n",
       "5641f96713664c000332c8cd    3394\n",
       "5742d699f839a10003a407d2    3827\n",
       "56aec740f1ef260003e307d6    4388\n",
       "54e52607e4b01191dc064966    8561\n",
       "Name: vote, dtype: int64"
      ]
     },
     "execution_count": 9,
     "metadata": {},
     "output_type": "execute_result"
    }
   ],
   "source": [
    "df_votes[df_votes['day'] == 'Wednesday'].groupby('companyAlias')['vote'].size().sort_values()"
   ]
  },
  {
   "cell_type": "code",
   "execution_count": null,
   "metadata": {},
   "outputs": [],
   "source": []
  },
  {
   "cell_type": "code",
   "execution_count": null,
   "metadata": {},
   "outputs": [],
   "source": []
  },
  {
   "cell_type": "markdown",
   "metadata": {},
   "source": [
    "2. daily average of rating if the null is removed"
   ]
  },
  {
   "cell_type": "code",
   "execution_count": 15,
   "metadata": {},
   "outputs": [],
   "source": [
    "df_food = pd.read_csv(PATH_DATA+'food_delivery_datasets.csv', parse_dates = ['date_time'])\n",
    "df_food['date'] = df_food['date_time'].dt.strftime('%Y-%m-%d')"
   ]
  },
  {
   "cell_type": "code",
   "execution_count": 16,
   "metadata": {},
   "outputs": [],
   "source": [
    "df_food2 = df_food[~(df_food['rating'].isnull())]"
   ]
  },
  {
   "cell_type": "code",
   "execution_count": 17,
   "metadata": {},
   "outputs": [
    {
     "data": {
      "text/plain": [
       "4.9443767035433694"
      ]
     },
     "execution_count": 17,
     "metadata": {},
     "output_type": "execute_result"
    }
   ],
   "source": [
    "df_food2.groupby('date')['rating'].mean().mean()"
   ]
  },
  {
   "cell_type": "code",
   "execution_count": null,
   "metadata": {},
   "outputs": [],
   "source": []
  }
 ],
 "metadata": {
  "kernelspec": {
   "display_name": "p37",
   "language": "python",
   "name": "p37"
  },
  "language_info": {
   "codemirror_mode": {
    "name": "ipython",
    "version": 3
   },
   "file_extension": ".py",
   "mimetype": "text/x-python",
   "name": "python",
   "nbconvert_exporter": "python",
   "pygments_lexer": "ipython3",
   "version": "3.7.9"
  }
 },
 "nbformat": 4,
 "nbformat_minor": 4
}
